{
 "cells": [
  {
   "cell_type": "code",
   "execution_count": 1,
   "metadata": {
    "_cell_guid": "b1076dfc-b9ad-4769-8c92-a6c4dae69d19",
    "_uuid": "8f2839f25d086af736a60e9eeb907d3b93b6e0e5"
   },
   "outputs": [],
   "source": [
    "# Import modules\n",
    "\n",
    "import numpy as np\n",
    "import pandas as pd\n",
    "import matplotlib.pyplot as plt\n",
    "\n",
    "from sklearn.model_selection import train_test_split\n",
    "import cv2\n",
    "\n",
    "#keras\n",
    "from keras.models import Sequential\n",
    "from keras.layers import Dense, Dropout, Flatten\n",
    "from keras.layers import Conv2D, MaxPooling2D\n",
    "from keras.utils import np_utils\n",
    "import sklearn.metrics as metrics\n",
    "import ipyplot"
   ]
  },
  {
   "cell_type": "code",
   "execution_count": 3,
   "metadata": {
    "_uuid": "b9de95e8cefcdcef4e7042d367037d7c67750cf8"
   },
   "outputs": [
    {
     "name": "stdout",
     "output_type": "stream",
     "text": [
      "Train: (112799, 785), Test: (18799, 785), Map: (47,)\n"
     ]
    },
    {
     "name": "stderr",
     "output_type": "stream",
     "text": [
      "<ipython-input-3-614fb9dfc0b2>:3: FutureWarning: The squeeze argument has been deprecated and will be removed in a future version. Append .squeeze(\"columns\") to the call to squeeze.\n",
      "\n",
      "\n",
      "  mapp = pd.read_csv(\"archive/emnist-balanced-mapping.txt\", delimiter = ' ', index_col=0, header=None, squeeze=True)\n"
     ]
    }
   ],
   "source": [
    "train = pd.read_csv(\"archive/emnist-balanced-train.csv\",delimiter = ',')\n",
    "test = pd.read_csv(\"archive/emnist-balanced-test.csv\", delimiter = ',')\n",
    "mapp = pd.read_csv(\"archive/emnist-balanced-mapping.txt\", delimiter = ' ', index_col=0, header=None, squeeze=True)\n",
    "print(\"Train: %s, Test: %s, Map: %s\" %(train.shape, test.shape, mapp.shape))"
   ]
  },
  {
   "cell_type": "code",
   "execution_count": 7,
   "metadata": {
    "_uuid": "af42aed88241eb6f48f66ebb116f12991845acb7"
   },
   "outputs": [],
   "source": [
    "# Constants\n",
    "HEIGHT = 28\n",
    "WIDTH = 28"
   ]
  },
  {
   "cell_type": "code",
   "execution_count": 4,
   "metadata": {
    "_uuid": "cd1f2f13152b22618bab3c81de05bcad638d14da"
   },
   "outputs": [],
   "source": [
    "# Split x and y\n",
    "train_x = train.iloc[:,1:]\n",
    "train_y = train.iloc[:,0]\n",
    "\n",
    "test_x = test.iloc[:,1:]\n",
    "test_y = test.iloc[:,0]\n",
    "del test"
   ]
  },
  {
   "cell_type": "code",
   "execution_count": 5,
   "metadata": {
    "_uuid": "68ca0190a5f89676d61e18703ce5cb946584f70e"
   },
   "outputs": [
    {
     "name": "stdout",
     "output_type": "stream",
     "text": [
      "(112799, 784) (112799,) (18799, 784) (18799,)\n"
     ]
    }
   ],
   "source": [
    "print(train_x.shape,train_y.shape,test_x.shape,test_y.shape)"
   ]
  },
  {
   "cell_type": "code",
   "execution_count": 5,
   "metadata": {
    "_uuid": "d2b3cc6a0305996d1a884281cac4621560961d9f"
   },
   "outputs": [],
   "source": [
    "def rotate(image):\n",
    "    image = image.reshape([HEIGHT, WIDTH])\n",
    "    image = np.fliplr(image)\n",
    "    image = np.rot90(image)\n",
    "    return image"
   ]
  },
  {
   "cell_type": "code",
   "execution_count": 8,
   "metadata": {
    "_uuid": "552ac59745108ed31d39fe7400a9fa5f83c8949a"
   },
   "outputs": [
    {
     "name": "stdout",
     "output_type": "stream",
     "text": [
      "train_x: (112799, 28, 28)\n",
      "test_x: (18799, 28, 28)\n"
     ]
    }
   ],
   "source": [
    "# Flip and rotate image\n",
    "train_x = np.asarray(train_x)\n",
    "train_x = np.apply_along_axis(rotate, 1, train_x)\n",
    "print (\"train_x:\",train_x.shape)\n",
    "\n",
    "test_x = np.asarray(test_x)\n",
    "test_x = np.apply_along_axis(rotate, 1, test_x)\n",
    "print (\"test_x:\",test_x.shape)"
   ]
  },
  {
   "cell_type": "code",
   "execution_count": 9,
   "metadata": {
    "_uuid": "47dd7244f7a5e91bd1eff06667b0fa6ed77cc746"
   },
   "outputs": [],
   "source": [
    "# Normalise\n",
    "train_x = train_x.astype('float32')\n",
    "train_x /= 255\n",
    "test_x = test_x.astype('float32')\n",
    "test_x /= 255\n"
   ]
  },
  {
   "cell_type": "code",
   "execution_count": 12,
   "metadata": {},
   "outputs": [],
   "source": [
    "lab = []\n",
    "for i in range(112000, 112030):\n",
    "    lab.append(chr(mapp[train_y[i]]))"
   ]
  },
  {
   "cell_type": "code",
   "execution_count": 13,
   "metadata": {},
   "outputs": [
    {
     "data": {
      "text/html": [
       "\n",
       "    <style>\n",
       "        #ipyplot-html-viewer-toggle-T84kZM3LpnyX5ayFzvwWwN {\n",
       "            position: absolute;\n",
       "            top: -9999px;\n",
       "            left: -9999px;\n",
       "            visibility: hidden;\n",
       "        }\n",
       "\n",
       "        #ipyplot-html-viewer-label-T84kZM3LpnyX5ayFzvwWwN { \n",
       "            position: relative;\n",
       "            display: inline-block;\n",
       "            cursor: pointer;\n",
       "            color: blue;\n",
       "            text-decoration: underline;\n",
       "        }\n",
       "\n",
       "        #ipyplot-html-viewer-textarea-T84kZM3LpnyX5ayFzvwWwN {\n",
       "            background: lightgrey;\n",
       "            width: 100%;\n",
       "            height: 0px;\n",
       "            display: none;\n",
       "        }\n",
       "\n",
       "        #ipyplot-html-viewer-toggle-T84kZM3LpnyX5ayFzvwWwN:checked ~ #ipyplot-html-viewer-textarea-T84kZM3LpnyX5ayFzvwWwN {\n",
       "            height: 200px;\n",
       "            display: block;\n",
       "        }\n",
       "\n",
       "        #ipyplot-html-viewer-toggle-T84kZM3LpnyX5ayFzvwWwN:checked + #ipyplot-html-viewer-label-T84kZM3LpnyX5ayFzvwWwN:after {\n",
       "            content: \"hide html\";\n",
       "            position: absolute;\n",
       "            top: 0;\n",
       "            left: 0;\n",
       "            right: 0;\n",
       "            bottom: 0;\n",
       "            background: white;\n",
       "            cursor: pointer;\n",
       "            color: blue;\n",
       "            text-decoration: underline;\n",
       "        }\n",
       "    </style>\n",
       "    <div>\n",
       "        <input type=\"checkbox\" id=\"ipyplot-html-viewer-toggle-T84kZM3LpnyX5ayFzvwWwN\">\n",
       "        <label id=\"ipyplot-html-viewer-label-T84kZM3LpnyX5ayFzvwWwN\" for=\"ipyplot-html-viewer-toggle-T84kZM3LpnyX5ayFzvwWwN\">show html</label>\n",
       "        <textarea id=\"ipyplot-html-viewer-textarea-T84kZM3LpnyX5ayFzvwWwN\" readonly>\n",
       "            \n",
       "        <style>\n",
       "        #ipyplot-imgs-container-div-9LdjYyagisdFRZcoTbDoiE {\n",
       "            width: 100%;\n",
       "            height: 100%;\n",
       "            margin: 0%;\n",
       "            overflow: auto;\n",
       "            position: relative;\n",
       "            overflow-y: scroll;\n",
       "        }\n",
       "\n",
       "        div.ipyplot-placeholder-div-9LdjYyagisdFRZcoTbDoiE {\n",
       "            width: 150px;\n",
       "            display: inline-block;\n",
       "            margin: 3px;\n",
       "            position: relative;\n",
       "        }\n",
       "\n",
       "        div.ipyplot-content-div-9LdjYyagisdFRZcoTbDoiE {\n",
       "            width: 150px;\n",
       "            background: white;\n",
       "            display: inline-block;\n",
       "            vertical-align: top;\n",
       "            text-align: center;\n",
       "            position: relative;\n",
       "            border: 2px solid #ddd;\n",
       "            top: 0;\n",
       "            left: 0;\n",
       "        }\n",
       "\n",
       "        div.ipyplot-content-div-9LdjYyagisdFRZcoTbDoiE span.ipyplot-img-close {\n",
       "            display: none;\n",
       "        }\n",
       "\n",
       "        div.ipyplot-content-div-9LdjYyagisdFRZcoTbDoiE span {\n",
       "            width: 100%;\n",
       "            height: 100%;\n",
       "            position: absolute;\n",
       "            top: 0;\n",
       "            left: 0;\n",
       "        }\n",
       "\n",
       "        div.ipyplot-content-div-9LdjYyagisdFRZcoTbDoiE img {\n",
       "            width: 150px;\n",
       "        }\n",
       "\n",
       "        div.ipyplot-content-div-9LdjYyagisdFRZcoTbDoiE span.ipyplot-img-close:hover {\n",
       "            cursor: zoom-out;\n",
       "        }\n",
       "        div.ipyplot-content-div-9LdjYyagisdFRZcoTbDoiE span.ipyplot-img-expand:hover {\n",
       "            cursor: zoom-in;\n",
       "        }\n",
       "\n",
       "        div[id^=ipyplot-content-div-9LdjYyagisdFRZcoTbDoiE]:target {\n",
       "            transform: scale(2.5);\n",
       "            transform-origin: left top;\n",
       "            z-index: 5000;\n",
       "            top: 0;\n",
       "            left: 0;\n",
       "            position: absolute;\n",
       "        }\n",
       "\n",
       "        div[id^=ipyplot-content-div-9LdjYyagisdFRZcoTbDoiE]:target span.ipyplot-img-close {\n",
       "            display: block;\n",
       "        }\n",
       "\n",
       "        div[id^=ipyplot-content-div-9LdjYyagisdFRZcoTbDoiE]:target span.ipyplot-img-expand {\n",
       "            display: none;\n",
       "        }\n",
       "        </style>\n",
       "    <div id=\"ipyplot-imgs-container-div-9LdjYyagisdFRZcoTbDoiE\">\n",
       "    <div class=\"ipyplot-placeholder-div-9LdjYyagisdFRZcoTbDoiE\">\n",
       "        <div id=\"ipyplot-content-div-9LdjYyagisdFRZcoTbDoiE-L9uXiWPnbLFJQYn6biuCqP\" class=\"ipyplot-content-div-9LdjYyagisdFRZcoTbDoiE\">\n",
       "            <h4 style=\"font-size: 12px; word-wrap: break-word;\">F</h4>\n",
       "            <img src=\"data:image/png;base64,iVBORw0KGgoAAAANSUhEUgAAABwAAAAcCAAAAABXZoBIAAABRElEQVR4nK2RP0tDMRTFT24bWqGtqVSfXYpLp4e6OAmlooM4+lGcxUH8CKKzow5SOroJBTcFqUV0seAkxWf6RxH6kji0aWnNc/IsN+HHubnnBvhDzB7ig6L1NEzkeaacBgDdaGjIQI0Nse19wT0OAEZK6PpFrWWsc/5kt/0+6sU9Cq6OXqxTLJvz076FmfKsv755puwcRIut1sh6z7Irz8reik/6sejKQBPFykzEmxIRwjHkgisNIgDc4+T7vUpzAPtd5A9u6w34PgHpjTSE+MZxiDiAt+vV5M5Wu8OEYIBmDDC90FinMa/VrLck5XCB0A81NXpTVQ5pJgUAkNLYDxhC0/kK5e+hnVH+B3b7SLlWRQDUXcByyQgYW5vTzc8IWCglPurKAQHE97rh5YKTACbs6JvABRmAXKlQbbq7AqBYJIrWD707b5qd5YwwAAAAAElFTkSuQmCC\"/>\n",
       "            <a href=\"#!\">\n",
       "                <span class=\"ipyplot-img-close\"/>\n",
       "            </a>\n",
       "            <a href=\"#ipyplot-content-div-9LdjYyagisdFRZcoTbDoiE-L9uXiWPnbLFJQYn6biuCqP\">\n",
       "                <span class=\"ipyplot-img-expand\"/>\n",
       "            </a>\n",
       "        </div>\n",
       "    </div>\n",
       "    \n",
       "    <div class=\"ipyplot-placeholder-div-9LdjYyagisdFRZcoTbDoiE\">\n",
       "        <div id=\"ipyplot-content-div-9LdjYyagisdFRZcoTbDoiE-2zXChDpYmsEjpqtYNNdpno\" class=\"ipyplot-content-div-9LdjYyagisdFRZcoTbDoiE\">\n",
       "            <h4 style=\"font-size: 12px; word-wrap: break-word;\">Z</h4>\n",
       "            <img src=\"data:image/png;base64,iVBORw0KGgoAAAANSUhEUgAAABwAAAAcCAAAAABXZoBIAAABU0lEQVR4nGNgoD9gZGBgYGD5/xfCY2GUZmVg+PD2H1ySMbL2kS+zuJEuA683kwwrA8P1vINwzXpf/r1Zd+/rr1+/Xt68ee/fv9v6rFAZFgYWVy5GId9/Hw5fZrh8mUF/OUPLpf9wjQqn/327U68mysTAwMAgfuv7YnYkJ4nMXKXHCWX7nf8zXwzFvSKiMCbn+t+3lRmxe4tz8Z/nKji8rLz47wZ9HHLM879+9WfGLscY/f1bNA77GMRu/V7PiUtu/t/FijjkhNd/vyWGQ47B+MefZFQLmZgQFv77d7FYiQkhJ7aykgPCUlz879+/f39frSkyVmBlYmFhVaq/+HeFCCSyC5u4Hv6WYWVi+Pny3earcrxM3pocr6P3/2NkYGBgsLf7MuuXNLu2vreQNDMD49//T88dX3cfmkzggIVVRlebYdunJz//MTCgS0Jc+QeXn6gEAPLpcWO5+URfAAAAAElFTkSuQmCC\"/>\n",
       "            <a href=\"#!\">\n",
       "                <span class=\"ipyplot-img-close\"/>\n",
       "            </a>\n",
       "            <a href=\"#ipyplot-content-div-9LdjYyagisdFRZcoTbDoiE-2zXChDpYmsEjpqtYNNdpno\">\n",
       "                <span class=\"ipyplot-img-expand\"/>\n",
       "            </a>\n",
       "        </div>\n",
       "    </div>\n",
       "    \n",
       "    <div class=\"ipyplot-placeholder-div-9LdjYyagisdFRZcoTbDoiE\">\n",
       "        <div id=\"ipyplot-content-div-9LdjYyagisdFRZcoTbDoiE-LMyjhixrmN6BFegSf22CFj\" class=\"ipyplot-content-div-9LdjYyagisdFRZcoTbDoiE\">\n",
       "            <h4 style=\"font-size: 12px; word-wrap: break-word;\">h</h4>\n",
       "            <img src=\"data:image/png;base64,iVBORw0KGgoAAAANSUhEUgAAABwAAAAcCAAAAABXZoBIAAABH0lEQVR4nGNgoA5QKBNC5jKhcIxihXFKsluxMeCUVHVhwC3pr3n5A247Ga/ikfz/8T8DDsBx4aUYLjkGva83WXE5iDWQ/fJfFEkWBFNA9+fxfwyiAr8foyphYGBgYDS5t8GytufFz6+zxDEkReZ/P7Tl56+f7769amZH15jw6t+/72fq1aT0dn83Qtd46+//r0uUOBgYGEJeFrGgyDGH/Pn3NZqTgYGBgUH15hpRFK/IRzP9XL/uO5SnLYCicfXvb/NhwaN682UAsk55W+adra+hkvCAgTBY/EV/LrgPC3RtgffXkEwVXfP3DNyBTKv+9HAi6RTQ/rn5D0Lt/2e/kc1n3DodLvXv+NsNEJUQw37fX/wWoXH9p6eoYcBAMgAA+jZgyfvqZnAAAAAASUVORK5CYII=\"/>\n",
       "            <a href=\"#!\">\n",
       "                <span class=\"ipyplot-img-close\"/>\n",
       "            </a>\n",
       "            <a href=\"#ipyplot-content-div-9LdjYyagisdFRZcoTbDoiE-LMyjhixrmN6BFegSf22CFj\">\n",
       "                <span class=\"ipyplot-img-expand\"/>\n",
       "            </a>\n",
       "        </div>\n",
       "    </div>\n",
       "    \n",
       "    <div class=\"ipyplot-placeholder-div-9LdjYyagisdFRZcoTbDoiE\">\n",
       "        <div id=\"ipyplot-content-div-9LdjYyagisdFRZcoTbDoiE-AgZiSwShxbRpiXMheTmkBn\" class=\"ipyplot-content-div-9LdjYyagisdFRZcoTbDoiE\">\n",
       "            <h4 style=\"font-size: 12px; word-wrap: break-word;\">f</h4>\n",
       "            <img src=\"data:image/png;base64,iVBORw0KGgoAAAANSUhEUgAAABwAAAAcCAAAAABXZoBIAAABWUlEQVR4nGNgIBowMaFwGZHYrBo1vFe/MPy7uu0HhjZWq8M/f3z79v3nizpFRnSdutNMdl34x6OoI8i1oe4+qkbG7l/3uBkYGJhYxZZ8qoU4AS7J58Py8ycDA8O/368mPMaw8uavHhhTXoiBgYGBgQUu+R+h7vdDDD+u+XOHE6pTRBhN57/jnpLiDxiYmKWFfLXf5PxDkWQ48FJG9Kmgja6vkDTDejSdDN/+sGz9wC/E+PbxOtYJ/5AkGRmFZeOEGEVEvj+8sOzCc7ZPSI7RnrT25a9fv/782aTEiRT2EJ2WMXz/3i35amdz5z6Sj6BAJLfWSJSBpf7fdRZkYQjnzXSGPwwMDP8Y2Fn/IHsdQv35w8DA8O/qPwlVDFNhgPPev3pWTJ0Q8Psdg64ALsk/y7/jlmTY/5yVD6elHPW/V4nilDX+dR3JvSyokm9vP/mNUycDCwtuOVQAAFaCbuv8ADmrAAAAAElFTkSuQmCC\"/>\n",
       "            <a href=\"#!\">\n",
       "                <span class=\"ipyplot-img-close\"/>\n",
       "            </a>\n",
       "            <a href=\"#ipyplot-content-div-9LdjYyagisdFRZcoTbDoiE-AgZiSwShxbRpiXMheTmkBn\">\n",
       "                <span class=\"ipyplot-img-expand\"/>\n",
       "            </a>\n",
       "        </div>\n",
       "    </div>\n",
       "    \n",
       "    <div class=\"ipyplot-placeholder-div-9LdjYyagisdFRZcoTbDoiE\">\n",
       "        <div id=\"ipyplot-content-div-9LdjYyagisdFRZcoTbDoiE-GL9aV3CzjUdeGY9cJKsnob\" class=\"ipyplot-content-div-9LdjYyagisdFRZcoTbDoiE\">\n",
       "            <h4 style=\"font-size: 12px; word-wrap: break-word;\">H</h4>\n",
       "            <img src=\"data:image/png;base64,iVBORw0KGgoAAAANSUhEUgAAABwAAAAcCAAAAABXZoBIAAABKElEQVR4nGNgIAkwsTDBmIwYcvaWRw//w6KHmYGBQWzV51oWqAALQo7DVWnjAyYbO3a4sQhJJtdeMaZ+dkuh358xJZlNFBj4GGR8WO5v/QNTD5cU0GaCCsCdgyGJ4kKsTJwi2CSZdAUY/v/DIcmsK8Dw4SqqD+CSgnrMDB9vsgqwMgiHCUHFYKqYrK2ZGITS3xtIMgh4LHyHajxzwZd////9/vXn379X8exoxv49/IrhPwMzEwMDw/sTP9GMZfj0m+HnrgtXDAs4GDAjzPjev3umrMzG9/7dVGVA08liL87w+8Nvhk+/sfiTVYoVwzC4pJAR8/+Pv9EkYcY+b97/ZcNDHJL/Dh5m+MOAQ5LhH8QDvz/8+gA3HT1psrvpX9z1kwEHQErT+AEAVOJUM7NQQ5YAAAAASUVORK5CYII=\"/>\n",
       "            <a href=\"#!\">\n",
       "                <span class=\"ipyplot-img-close\"/>\n",
       "            </a>\n",
       "            <a href=\"#ipyplot-content-div-9LdjYyagisdFRZcoTbDoiE-GL9aV3CzjUdeGY9cJKsnob\">\n",
       "                <span class=\"ipyplot-img-expand\"/>\n",
       "            </a>\n",
       "        </div>\n",
       "    </div>\n",
       "    \n",
       "    <div class=\"ipyplot-placeholder-div-9LdjYyagisdFRZcoTbDoiE\">\n",
       "        <div id=\"ipyplot-content-div-9LdjYyagisdFRZcoTbDoiE-icdUMWiAkoDmJjZxkqkBYb\" class=\"ipyplot-content-div-9LdjYyagisdFRZcoTbDoiE\">\n",
       "            <h4 style=\"font-size: 12px; word-wrap: break-word;\">V</h4>\n",
       "            <img src=\"data:image/png;base64,iVBORw0KGgoAAAANSUhEUgAAABwAAAAcCAAAAABXZoBIAAABWklEQVR4nJWQP0vDUBTFz0sDrSAltrUqKKSG2qH+W4UuQgdFl7qLTg5+B+sHcHHVNcVJED9BFQRR0erYQRFBaKBKUWOb+HqfQ4kkzxb0TZfz45x37wH+9pTQL+VnCi9tJnoa9YvnghKUfE5NS/WC6vIoY1KY6g2xuTD191hIyeWUr3dPDUkwOwDrlAMAohPr4UDC4CGnKx0AMHxQb6UDzrFZBScWAMQ38jEWiFXnR0DnDgA2tZpAoyGnuhkASFYcal+q/lO0rAIQgL7FyZB42OV+Z7pK/GYczDBtapaMYBuZKvFynBmmTe3KjNTUikVUGzJMm6i2FjwS2HKInAXTJmruJyWGbVcIfvZJ1DpKyvVjxxWCiOg+H/epnRJYggEMcK/vXnywc6d4EgDwWjr2M68ELgQD6ntVkj8EMH1LRB/FSBcERIpvrmOmJNXbWy9EqfQoukOoAMd/3jeQZ3zXG60yDAAAAABJRU5ErkJggg==\"/>\n",
       "            <a href=\"#!\">\n",
       "                <span class=\"ipyplot-img-close\"/>\n",
       "            </a>\n",
       "            <a href=\"#ipyplot-content-div-9LdjYyagisdFRZcoTbDoiE-icdUMWiAkoDmJjZxkqkBYb\">\n",
       "                <span class=\"ipyplot-img-expand\"/>\n",
       "            </a>\n",
       "        </div>\n",
       "    </div>\n",
       "    \n",
       "    <div class=\"ipyplot-placeholder-div-9LdjYyagisdFRZcoTbDoiE\">\n",
       "        <div id=\"ipyplot-content-div-9LdjYyagisdFRZcoTbDoiE-cazs9gq7gCESbZhrqXs2Hd\" class=\"ipyplot-content-div-9LdjYyagisdFRZcoTbDoiE\">\n",
       "            <h4 style=\"font-size: 12px; word-wrap: break-word;\">T</h4>\n",
       "            <img src=\"data:image/png;base64,iVBORw0KGgoAAAANSUhEUgAAABwAAAAcCAAAAABXZoBIAAABK0lEQVR4nLXPvUoDQRQF4LO7A0l00whGS9ekUsTGxkIQ8gD7ABbaW1ra+BQKVsFdCwsJRNKYTguFFGKRJigSREQMIbBm8zPZMzaJP+ykzG1m4Lv3cC8wlTLGHzF+0zbEaq0x+MW5pe00AODLXnPQXqmd3beao/b5iwH/17B3bY3SZh3xkw8oDNVbsxCN8ONmQw0BwDQNKPRO2uXW+3iP/lUQlAmkjjcNJUt+Sf1d2hQCQGYvJPm4aMWvEvknSYbFvObipFshGXk5zVxity7J/kPWiFvWkyTDw4wmM+V1SHa8GY2t+xEZPbvJOBkLt13ys7qjWQWZ0z7ZPcolNOZ4XcqiqxsDDgLKyrLeRJX0HS2ZgImo8DoB+UJrf2sS3nWk0hoEcEn7vKHX6dQ3qT6IeXjzP9cAAAAASUVORK5CYII=\"/>\n",
       "            <a href=\"#!\">\n",
       "                <span class=\"ipyplot-img-close\"/>\n",
       "            </a>\n",
       "            <a href=\"#ipyplot-content-div-9LdjYyagisdFRZcoTbDoiE-cazs9gq7gCESbZhrqXs2Hd\">\n",
       "                <span class=\"ipyplot-img-expand\"/>\n",
       "            </a>\n",
       "        </div>\n",
       "    </div>\n",
       "    \n",
       "    <div class=\"ipyplot-placeholder-div-9LdjYyagisdFRZcoTbDoiE\">\n",
       "        <div id=\"ipyplot-content-div-9LdjYyagisdFRZcoTbDoiE-Ry4KNwgvA8YTbDKmSWMXBC\" class=\"ipyplot-content-div-9LdjYyagisdFRZcoTbDoiE\">\n",
       "            <h4 style=\"font-size: 12px; word-wrap: break-word;\">h</h4>\n",
       "            <img src=\"data:image/png;base64,iVBORw0KGgoAAAANSUhEUgAAABwAAAAcCAAAAABXZoBIAAAA30lEQVR4nGNgIAow4RHiKPPFIg0FQS/mC+DUqSP05gdOSUaGL3+IcAaVJXUF8UjqCOCRZCRoJxMLEgfO/s/AwMDAwOmpsOfyfwwjHB7fVOWqv/D97xd/ZgxjjYQYuUtzGHoecMYIYeis//Xz8Xo9TgaVDfeMsUj+uy3GwMDAYPytHotr37S+ZmBgYPjEpMuEKfnoAMSZjHrM6JJ8jFufMjAwMDA8viGthSbJ4sD0EaLxx7o/OWhBo/ftqxKUya6ggObYuv+3WDF8ADOA8f8nzFCDAd8TfjjlGBiY8chhBQDNLjjekbcfmAAAAABJRU5ErkJggg==\"/>\n",
       "            <a href=\"#!\">\n",
       "                <span class=\"ipyplot-img-close\"/>\n",
       "            </a>\n",
       "            <a href=\"#ipyplot-content-div-9LdjYyagisdFRZcoTbDoiE-Ry4KNwgvA8YTbDKmSWMXBC\">\n",
       "                <span class=\"ipyplot-img-expand\"/>\n",
       "            </a>\n",
       "        </div>\n",
       "    </div>\n",
       "    \n",
       "    <div class=\"ipyplot-placeholder-div-9LdjYyagisdFRZcoTbDoiE\">\n",
       "        <div id=\"ipyplot-content-div-9LdjYyagisdFRZcoTbDoiE-jTyeKeGrvQWPqsRSn7fPZq\" class=\"ipyplot-content-div-9LdjYyagisdFRZcoTbDoiE\">\n",
       "            <h4 style=\"font-size: 12px; word-wrap: break-word;\">Y</h4>\n",
       "            <img src=\"data:image/png;base64,iVBORw0KGgoAAAANSUhEUgAAABwAAAAcCAAAAABXZoBIAAABeUlEQVR4nJWRv0sCYRjHv6/eoVaW3nEuCYoQDiaBS9RaLW0aRBDl1hQUNFdDYy39BS0NUU0FbVFgIBSkUA5CGGTlDzI1CDvPe6/hOvPOa+iZnvf7eZ/v8zzvC/wzLFYtaUuaAtv0st9wnVvUlMB1bY3RV3Ir8R7VIeLrG3XpIeldmLICADfLKYqxJ/HNcwDgClsrh1U9lOqW8I8ZvUrIeljYfbQNsgD6WTH5btyO3fx6jQLMupgNdu0p3z7z4wSEwYfYBen5fisqwB2ilyWjK4DIgxRjZ4qlmKWrEnhKtMa8c3wtQ00qyUg6t1eWb/wmDHBsyxJt7ji0c6ctxKTCQKlLekh4DgBouqGgo6UK+a0lOwC8XFDk022ofpx7YqBw3KDEG7JIp3noISBsDCczzlU/qneyYcyhLKXNUjbXoNKRB8bKlkIYQQBQOaj8QnWgyn7qTQEByicJoytgD8RTn02xGPeQDrWd24KTTnp/JsIMAgxAzZ78j/gGRMN+dFZLT+wAAAAASUVORK5CYII=\"/>\n",
       "            <a href=\"#!\">\n",
       "                <span class=\"ipyplot-img-close\"/>\n",
       "            </a>\n",
       "            <a href=\"#ipyplot-content-div-9LdjYyagisdFRZcoTbDoiE-jTyeKeGrvQWPqsRSn7fPZq\">\n",
       "                <span class=\"ipyplot-img-expand\"/>\n",
       "            </a>\n",
       "        </div>\n",
       "    </div>\n",
       "    \n",
       "    <div class=\"ipyplot-placeholder-div-9LdjYyagisdFRZcoTbDoiE\">\n",
       "        <div id=\"ipyplot-content-div-9LdjYyagisdFRZcoTbDoiE-Betv2yWbGrS8BJpRnMzyGW\" class=\"ipyplot-content-div-9LdjYyagisdFRZcoTbDoiE\">\n",
       "            <h4 style=\"font-size: 12px; word-wrap: break-word;\">6</h4>\n",
       "            <img src=\"data:image/png;base64,iVBORw0KGgoAAAANSUhEUgAAABwAAAAcCAAAAABXZoBIAAABEElEQVR4nH3Pu0oDQRQG4H8uMUGCRLBfL9ul0MJCUIIQqzQLwc6H8WG2dzoLBQtNk1SC2Ei8YCNpjGJ2417mrIWrZM1ZTzPMfDPnnwP8U2L+SIOoBJXj1a/PIraTapuPqL/Kp7gmpukFi2LDDyk2mxUO1/yAQtNWnC0eTyj0XdZqR/cUG5eZDtDenZ2yPaVeODhPaLg9azq3vVZlt6U+L58s87AzmKSUlARW9x+IRofFQJmv0UsCvN1YFqs7y1zD71ofWKJRVxYO853ccoRAo8ljswEIUbTfTCmYIWbvZhmxqOsAML4lDmsrAhn1eiwGjzZD3H9l29qr0yAdD/9k/vxROd7S+8kzj4AG0vlpyusLlVxd/7m0R5kAAAAASUVORK5CYII=\"/>\n",
       "            <a href=\"#!\">\n",
       "                <span class=\"ipyplot-img-close\"/>\n",
       "            </a>\n",
       "            <a href=\"#ipyplot-content-div-9LdjYyagisdFRZcoTbDoiE-Betv2yWbGrS8BJpRnMzyGW\">\n",
       "                <span class=\"ipyplot-img-expand\"/>\n",
       "            </a>\n",
       "        </div>\n",
       "    </div>\n",
       "    \n",
       "    <div class=\"ipyplot-placeholder-div-9LdjYyagisdFRZcoTbDoiE\">\n",
       "        <div id=\"ipyplot-content-div-9LdjYyagisdFRZcoTbDoiE-QesjVTrmMwoGAtikPdUXFc\" class=\"ipyplot-content-div-9LdjYyagisdFRZcoTbDoiE\">\n",
       "            <h4 style=\"font-size: 12px; word-wrap: break-word;\">r</h4>\n",
       "            <img src=\"data:image/png;base64,iVBORw0KGgoAAAANSUhEUgAAABwAAAAcCAAAAABXZoBIAAABM0lEQVR4nM3QzUrDQBAH8NltNkby0eQg9aNKPKQnqRcv3orgk/gGvpIP4MGjJ0HFQ49REGtaEAmhUtJuaks22fFgY9sUzzqngd/+2ZkB+GdFioZSVmMgxnw6R6VoHMtpGYT3Oi9CyhLSZnPnxCC861/FfJAvo3p8Wt9mIOoNIwpuucgW/lz3LjwtHY11XZGC372Gl1FaJCumV1Px3Q92XcOEtOH020OBM2SbBxYRD9dPddd0yedaFE/wZ2b3vC1FcKQTqjDbNm2N0flAqmkAZjxFlDAEAFyYtlK1VAJSIsyhQFY99AwUiSifTwGobLTO9qw8uomyElIAnL7dPyeYJWUDBUDyR43tWyixjBQAxKDXn+S5LNtsFRGHehj/giNf73b8lej34Vm1thVGHyvR5Vd/X18P3nlRkpFslwAAAABJRU5ErkJggg==\"/>\n",
       "            <a href=\"#!\">\n",
       "                <span class=\"ipyplot-img-close\"/>\n",
       "            </a>\n",
       "            <a href=\"#ipyplot-content-div-9LdjYyagisdFRZcoTbDoiE-QesjVTrmMwoGAtikPdUXFc\">\n",
       "                <span class=\"ipyplot-img-expand\"/>\n",
       "            </a>\n",
       "        </div>\n",
       "    </div>\n",
       "    \n",
       "    <div class=\"ipyplot-placeholder-div-9LdjYyagisdFRZcoTbDoiE\">\n",
       "        <div id=\"ipyplot-content-div-9LdjYyagisdFRZcoTbDoiE-P6qGgvgKeL9tSMpGPNcvwm\" class=\"ipyplot-content-div-9LdjYyagisdFRZcoTbDoiE\">\n",
       "            <h4 style=\"font-size: 12px; word-wrap: break-word;\">E</h4>\n",
       "            <img src=\"data:image/png;base64,iVBORw0KGgoAAAANSUhEUgAAABwAAAAcCAAAAABXZoBIAAABoElEQVR4nKWRv2sTYRjHP++bO1JC2l5aQYO2pLRS8foPOLp0Ev+ADt07urm4Ozi4uTg5OAt1EQclFQSnlFikjS0nKLHIJSGX6v3K8zokuTvErc/08Hz4Ps/3eR64XNgrV9R/ygooX608sJ4FAmn458KkGbSA+rasrw5GAqNf517UjU0unnvk+6EkcRzHv3s/jj/trBdGLD75chaZNIknkZw8X87bDh+/uPm0ftD2AdDu9aQw0/TsW2XT3vemcOV0VDAk1c1F43udSaWjjBQg6IIFyVNrlmgrS5XjkHSjHKrajWx57bqMXnkmg6Wde5lJHIfo9kM/VzoLoLUZA2D6P09N3jZ82xlW1xrSDADk6OtJmMNgvzWorjXkYAjAIAhnbrWm3zxLOJy1LayiXVcjBkQAtaCC8T9wukXJWd2tvH4T5kfQGmXZgF2tbd3ZrpQOvRyKsLTXF5hvbNVqJXP35TeTHf6ovbG0ZwA00fee12yZTCkf0o1NG0jO488f3/Uu+tNLKoByfff+PBC8D9qtbiKzx0x/NXdtokzHhY9dIv4C+2yxnARzbAgAAAAASUVORK5CYII=\"/>\n",
       "            <a href=\"#!\">\n",
       "                <span class=\"ipyplot-img-close\"/>\n",
       "            </a>\n",
       "            <a href=\"#ipyplot-content-div-9LdjYyagisdFRZcoTbDoiE-P6qGgvgKeL9tSMpGPNcvwm\">\n",
       "                <span class=\"ipyplot-img-expand\"/>\n",
       "            </a>\n",
       "        </div>\n",
       "    </div>\n",
       "    \n",
       "    <div class=\"ipyplot-placeholder-div-9LdjYyagisdFRZcoTbDoiE\">\n",
       "        <div id=\"ipyplot-content-div-9LdjYyagisdFRZcoTbDoiE-52pVrqSgSVPn48hiAmWEK9\" class=\"ipyplot-content-div-9LdjYyagisdFRZcoTbDoiE\">\n",
       "            <h4 style=\"font-size: 12px; word-wrap: break-word;\">d</h4>\n",
       "            <img src=\"data:image/png;base64,iVBORw0KGgoAAAANSUhEUgAAABwAAAAcCAAAAABXZoBIAAABHklEQVR4nGNgIAEIieCWY1p1SxGnJMvNf6uZcUv++eaLMAdVkpVl5u14JhyS4uKv1tmK4JB89YphPU8MDklpaYbrT3jhLkCWYhJiZ+RF5iOxFVZcyWHwZsEqydwd/DuM5RsLCzZJL58tuosZLvMJfMaUZI5nO/jh4L+3lmwbGDCA2Isvegzqv+7Ov8OJKVn0t5eRQfTlv789WOzkZ/zwn+H9B0aGp5gaWc78MmJgYLn5byMHpk4tze1XGRgYGBjO/cCU9Oc895OBQUgA2TTU6BHpE8UqycDAwMBZHfnxvxE7Np9sCrvwe7fWhV9GmJJit/7++XtekaH4by2mJINi/el5XAwMYnf2YE2dLEwMDAwMfs/zsUlCgagQHkkEAADLrFF+SRTjWQAAAABJRU5ErkJggg==\"/>\n",
       "            <a href=\"#!\">\n",
       "                <span class=\"ipyplot-img-close\"/>\n",
       "            </a>\n",
       "            <a href=\"#ipyplot-content-div-9LdjYyagisdFRZcoTbDoiE-52pVrqSgSVPn48hiAmWEK9\">\n",
       "                <span class=\"ipyplot-img-expand\"/>\n",
       "            </a>\n",
       "        </div>\n",
       "    </div>\n",
       "    \n",
       "    <div class=\"ipyplot-placeholder-div-9LdjYyagisdFRZcoTbDoiE\">\n",
       "        <div id=\"ipyplot-content-div-9LdjYyagisdFRZcoTbDoiE-erby9bHN22FzBdzDA36hTK\" class=\"ipyplot-content-div-9LdjYyagisdFRZcoTbDoiE\">\n",
       "            <h4 style=\"font-size: 12px; word-wrap: break-word;\">3</h4>\n",
       "            <img src=\"data:image/png;base64,iVBORw0KGgoAAAANSUhEUgAAABwAAAAcCAAAAABXZoBIAAABo0lEQVR4nJ2RSy8DURxHf3PNQ7VTWm3Fq516LCSalEg84pGINBEkBCsb3wRfgA3fwEJiYyl2wkJChKgmUo82tJ7RMJ2p0XHHgvQxunJXNzn3nNz7v8B/F5Pfsg4rlNevUpDh64MSYvtypkShee7wSVUfNhf8+Rj7y4Se0TYBcA60RJOaKevqXa5L78cgDYpns3d6sWn1fpyvbb8T19KInTNn5fCGuvdCLYJLUP5eiHA8726aX1e1XYk1maCc6Az4BwK8cpymZkhC40OOCr6srLxWsic+jSLIeH3MbTzuC4pjXanVk0i2EBphplqOx33X/qDHPdmQeM21AYCwLEtALO7OxS05Oe0pNEEpANCMlqaJPnt79KkQ5g5lItpb1YQc0QHy58WMt7uKGAZKmcTSM2LLhq8oij4bQLnYKPVN1X5dzkdVk8lyrS29/o46XB7da8ibhHC2xuGaUI0T+sXpyv2zkYNCZb9U7wt6WEO5vTnYefhBv1lPYKbJabW96O+xg+uTZNZAHjKu6sgFIO+mNSVFC+bGAIBDFABkH3WDFo30/+sbpouS8afWzI4AAAAASUVORK5CYII=\"/>\n",
       "            <a href=\"#!\">\n",
       "                <span class=\"ipyplot-img-close\"/>\n",
       "            </a>\n",
       "            <a href=\"#ipyplot-content-div-9LdjYyagisdFRZcoTbDoiE-erby9bHN22FzBdzDA36hTK\">\n",
       "                <span class=\"ipyplot-img-expand\"/>\n",
       "            </a>\n",
       "        </div>\n",
       "    </div>\n",
       "    \n",
       "    <div class=\"ipyplot-placeholder-div-9LdjYyagisdFRZcoTbDoiE\">\n",
       "        <div id=\"ipyplot-content-div-9LdjYyagisdFRZcoTbDoiE-kdaRWz8ib99TesaJY5kZth\" class=\"ipyplot-content-div-9LdjYyagisdFRZcoTbDoiE\">\n",
       "            <h4 style=\"font-size: 12px; word-wrap: break-word;\">Y</h4>\n",
       "            <img src=\"data:image/png;base64,iVBORw0KGgoAAAANSUhEUgAAABwAAAAcCAAAAABXZoBIAAABVElEQVR4nJWQwUsCURDGv31vwTWCQmWPJWYeDepUBFHQMco8dAnsL6h7Uh3qFtSpa10iCKOoe5e8RZAYRYRoCNFWqBSWrLvvbYdWWddX0FxmmN8M830D/DNkahdSoyNZjSoYMw7KzmEaHFPssnPt/TbsZGT8+GaKAAB8y3nzMthyZaVW3/QCACJ37DXhsXfsROXJfgCgUT8e03oL/NARiSkA/HO+t52nVvWhU5NfhQAyqxkptSnlJxUvdPRMBOAd7i7sl9zGo9eMPSe7ZnIvC4qbwZPQOM9vnxv3kTYGqEcm54b5uRsQQHlR4xY3TsKSAEJdr3KuxamIAX1npsOGwwoAVE2UD0tiSEdHSCXLxLB33s+yFfFFZbXKc9NiOdJAhmnJDvGiulf72lDFjMY1nht0d0lTjZ4u/rK4VKk/DLU9TgYAWJktUipYbmhPEwKLudnf8Q3JbXJB6DPIPAAAAABJRU5ErkJggg==\"/>\n",
       "            <a href=\"#!\">\n",
       "                <span class=\"ipyplot-img-close\"/>\n",
       "            </a>\n",
       "            <a href=\"#ipyplot-content-div-9LdjYyagisdFRZcoTbDoiE-kdaRWz8ib99TesaJY5kZth\">\n",
       "                <span class=\"ipyplot-img-expand\"/>\n",
       "            </a>\n",
       "        </div>\n",
       "    </div>\n",
       "    \n",
       "    <div class=\"ipyplot-placeholder-div-9LdjYyagisdFRZcoTbDoiE\">\n",
       "        <div id=\"ipyplot-content-div-9LdjYyagisdFRZcoTbDoiE-F3mBfYqMke57oW8U9ekCzM\" class=\"ipyplot-content-div-9LdjYyagisdFRZcoTbDoiE\">\n",
       "            <h4 style=\"font-size: 12px; word-wrap: break-word;\">4</h4>\n",
       "            <img src=\"data:image/png;base64,iVBORw0KGgoAAAANSUhEUgAAABwAAAAcCAAAAABXZoBIAAABe0lEQVR4nGNgIB0wMzEwMDAwYZXjyrbBLsHAwKB76Lwepk5GCBlsvOEWugZG5X5dVgYGBpn3v4wY0HUKV6eEcTIwMPIyvGdiRNPI7nLnjjIjA4Pi4l+rWdAc6L/+58diBgYG1vqfd4xQ5Viq7/x+26/AwMAgsfbPNkkUOZX5P3/fMhZkYGBg2f/zmyUrA5KdIuu//d7tz8jAwMCo8urveU4GLitBmBxz8K9/5/1ZGBgYGETm/X0RzyRWt0IeKsfke+ffn6kNRWqiLOzxr761yDfcOacPM5e1/uf/f79+fb2xptjp/N+PC9d+eh7FDgswheW6t15dk9MWEmL6x8zA8OdR+eFXEC8wMDB8Wsq28dtHbgH9CAchhh/X9h/a9hfJI8yQAOFwOfLvRYsSJ9bYMrj177INK5IAkipWEwGG6zd/Y9PGwGj8/e9dZfTYgAKx+f9+deOQYwp68fOCL3Y5Buc9v1eZ40hVjLN/vFDBmeIU831wSTHA0jHxAAACF3bEUMQjUgAAAABJRU5ErkJggg==\"/>\n",
       "            <a href=\"#!\">\n",
       "                <span class=\"ipyplot-img-close\"/>\n",
       "            </a>\n",
       "            <a href=\"#ipyplot-content-div-9LdjYyagisdFRZcoTbDoiE-F3mBfYqMke57oW8U9ekCzM\">\n",
       "                <span class=\"ipyplot-img-expand\"/>\n",
       "            </a>\n",
       "        </div>\n",
       "    </div>\n",
       "    \n",
       "    <div class=\"ipyplot-placeholder-div-9LdjYyagisdFRZcoTbDoiE\">\n",
       "        <div id=\"ipyplot-content-div-9LdjYyagisdFRZcoTbDoiE-FHGngDUNmAPSNg4gpKiDWk\" class=\"ipyplot-content-div-9LdjYyagisdFRZcoTbDoiE\">\n",
       "            <h4 style=\"font-size: 12px; word-wrap: break-word;\">Y</h4>\n",
       "            <img src=\"data:image/png;base64,iVBORw0KGgoAAAANSUhEUgAAABwAAAAcCAAAAABXZoBIAAAA/0lEQVR4nGNgIBYw8zMwMDAwiIgwYsqxz78qwsDAoHhrjzSmpNvvrwoMDAzd/+pZMSWL/+1iZmAQe/HLCCrAhCTJwyDLyMAQI/buMRbJfwzsrAwMvAxLXmORXPpK1ouBkZfhM1av9Py719j46t82PmySvi/+/P33/088Fm8yMDCIBiW9+n+BA6scAwOD+Mt/9bjkGIr+fdPDJce89t8aZjiPCVVS2Jrh+F9cOov/fVbCJcdy5l83dn8wMDD4fv+C7BwUOxkd2KdfxqVR7ws8tjAA8+p/69mJtBEFcGzE7VSW4r84NDIadl9/87ceh0aOeS+/zscZV0yiCsy45LACAGxxSlytFToPAAAAAElFTkSuQmCC\"/>\n",
       "            <a href=\"#!\">\n",
       "                <span class=\"ipyplot-img-close\"/>\n",
       "            </a>\n",
       "            <a href=\"#ipyplot-content-div-9LdjYyagisdFRZcoTbDoiE-FHGngDUNmAPSNg4gpKiDWk\">\n",
       "                <span class=\"ipyplot-img-expand\"/>\n",
       "            </a>\n",
       "        </div>\n",
       "    </div>\n",
       "    \n",
       "    <div class=\"ipyplot-placeholder-div-9LdjYyagisdFRZcoTbDoiE\">\n",
       "        <div id=\"ipyplot-content-div-9LdjYyagisdFRZcoTbDoiE-9zU3TGjibsE2Qq3A56YdXf\" class=\"ipyplot-content-div-9LdjYyagisdFRZcoTbDoiE\">\n",
       "            <h4 style=\"font-size: 12px; word-wrap: break-word;\">W</h4>\n",
       "            <img src=\"data:image/png;base64,iVBORw0KGgoAAAANSUhEUgAAABwAAAAcCAAAAABXZoBIAAABuUlEQVR4nJ3Qz2sTQRjG8e9OZt1NhbitTStIZVFSFNEeKqig+OMqRZAiKkjwTxAP9hY9eBD8BxSJBy+ixR48eFUoCh40GkpaxXhQ0YgltbVpup2+42E3kC568T3OZx6edwb+Y5RWAHhhIUzbwJ3abQWo8lL0NZ/K3VuROY1CHdys80MpPOQBKMyNj+jz6UqkKmiYcu9mTmiT4tWXAoBfkdb+eLex0mUPyNZldji5dSuSkg+w61X0KwTCZZnMgwJ40eTcEOBc2u1mXeCAR7WZ4Kff9I0A9v43APRVxRIJbmnTd1YBkvTkMM9Mgs+LJjOSAXIu5MBBns50kvbnGkEAHB9EH9MEgVRWO8iXGr0B+BezsN0j6I0LYjRPQMG2AnD6ZHLYQR4YPdHPVhdLWNx0StvOasSvbpwZeCRmekXqOyalPtqV/P6BYN+Ro8xfe8/gnr2sLXb/83hD3t6MZK7nusj0vNQKADrBd838sFEsyoJ1DjtUF7qTfklEpDFOT0WsjUa7t6U91cbh82taj1sWu6ES3FmR9Ssa/GIkb/yNqMrL8mMnQP/DmQukxh8rT8QlSqcNcP5y9u/5A3sSmRxUYsb5AAAAAElFTkSuQmCC\"/>\n",
       "            <a href=\"#!\">\n",
       "                <span class=\"ipyplot-img-close\"/>\n",
       "            </a>\n",
       "            <a href=\"#ipyplot-content-div-9LdjYyagisdFRZcoTbDoiE-9zU3TGjibsE2Qq3A56YdXf\">\n",
       "                <span class=\"ipyplot-img-expand\"/>\n",
       "            </a>\n",
       "        </div>\n",
       "    </div>\n",
       "    \n",
       "    <div class=\"ipyplot-placeholder-div-9LdjYyagisdFRZcoTbDoiE\">\n",
       "        <div id=\"ipyplot-content-div-9LdjYyagisdFRZcoTbDoiE-9G7fF4QPuDL7neXiYbXzC3\" class=\"ipyplot-content-div-9LdjYyagisdFRZcoTbDoiE\">\n",
       "            <h4 style=\"font-size: 12px; word-wrap: break-word;\">O</h4>\n",
       "            <img src=\"data:image/png;base64,iVBORw0KGgoAAAANSUhEUgAAABwAAAAcCAAAAABXZoBIAAABwUlEQVR4nKXSP2/TQBgG8McXn+PG5yRNo8ZWBDgiQYJkgoGJCSpVAhZGPgVfi4WVAQYQEpU6uX880ERKkdLGalKV+JxSx/YdQ+qQEiZ4l3f43elO7/sA/1rKvBECQIi/oaKZjCIO+UzeQBUANLvTKoqw5/mXK0hY+/nDsuBexf0Wp3+gotutu0U5q5Qb7/xgiRUAWLv/+pUDII2PuoeHXX8kl95MptMYikSOtKxW52DvQ5T+RikEICEkdM20mo3jk0m8wHnFnMsa1TaY2d3Z+yFuoOAHXvxkvWTq9We8HyyQFk2KdPz57clm4+WLW3nHqY5SCRAAhN1xDJnw4OpyMLhIJFizXdOyIRiOwwTvH4ciFZCA+WB8PonmN0ENQ419r8eFygwK0Mrtmr74ECHK+e6XgVh7tL1lqfj+9f3OeIFCSN1uhbyw/djWkO5/3B3OMoynYcLa8t60sGWXiIxc9zSS1yim/X5902adRLUoSaNTdxjJbEKC91xrnVbKQA6zydDdn6RLMaGl+pu2SdT8zwvvkzvMtnKdoVz+aZPljOrZ2ZHnR9lGlaxvMEoK1VEQLAUpQxACJadfJSsRxMrR/61fFBzC5fTafUsAAAAASUVORK5CYII=\"/>\n",
       "            <a href=\"#!\">\n",
       "                <span class=\"ipyplot-img-close\"/>\n",
       "            </a>\n",
       "            <a href=\"#ipyplot-content-div-9LdjYyagisdFRZcoTbDoiE-9G7fF4QPuDL7neXiYbXzC3\">\n",
       "                <span class=\"ipyplot-img-expand\"/>\n",
       "            </a>\n",
       "        </div>\n",
       "    </div>\n",
       "    \n",
       "    <div class=\"ipyplot-placeholder-div-9LdjYyagisdFRZcoTbDoiE\">\n",
       "        <div id=\"ipyplot-content-div-9LdjYyagisdFRZcoTbDoiE-SwCv5BnJRZDAmCzKn2A8t2\" class=\"ipyplot-content-div-9LdjYyagisdFRZcoTbDoiE\">\n",
       "            <h4 style=\"font-size: 12px; word-wrap: break-word;\">L</h4>\n",
       "            <img src=\"data:image/png;base64,iVBORw0KGgoAAAANSUhEUgAAABwAAAAcCAAAAABXZoBIAAAAvElEQVR4nGNgIBows+CR23k9igOXJNOaP58LkfnIkv+O/2TnwyXJsOUJky4TLsl/DEwG7LgkGRgYZGVxSzIyyTPikPxw+T8jPy7J95cZmLSZcEiiAWpJsvLikRQ2wa/z3+V/OCSFBBm+n8MlaS/+/+RzHMay27P/Pf8Th6S0ExPDFxwO4orjZnx/mQE78L3z798pJexyjL2//n3RZ8QuKXbn3/fF7NjlmONv3NypiGoWktuYGP7/xeEcLAAAoLowHe9VA/wAAAAASUVORK5CYII=\"/>\n",
       "            <a href=\"#!\">\n",
       "                <span class=\"ipyplot-img-close\"/>\n",
       "            </a>\n",
       "            <a href=\"#ipyplot-content-div-9LdjYyagisdFRZcoTbDoiE-SwCv5BnJRZDAmCzKn2A8t2\">\n",
       "                <span class=\"ipyplot-img-expand\"/>\n",
       "            </a>\n",
       "        </div>\n",
       "    </div>\n",
       "    \n",
       "    <div class=\"ipyplot-placeholder-div-9LdjYyagisdFRZcoTbDoiE\">\n",
       "        <div id=\"ipyplot-content-div-9LdjYyagisdFRZcoTbDoiE-HSW6T52zkWmeMEyJYcdUAC\" class=\"ipyplot-content-div-9LdjYyagisdFRZcoTbDoiE\">\n",
       "            <h4 style=\"font-size: 12px; word-wrap: break-word;\">1</h4>\n",
       "            <img src=\"data:image/png;base64,iVBORw0KGgoAAAANSUhEUgAAABwAAAAcCAAAAABXZoBIAAABKElEQVR4nGNgIBcwYogwMf7/h0uSyV7r0ZUH/xkYGBgYWNAl2SycH/E++4nVGi79C1/f7pZmhpiCJilhIMH24clPrMayBEaI/r+w9f0/LJKc0nbyjH/v3PnLgMVYCXMdXobfrz5hcw1L4am//79d0OOAeQtZkpGPj/H/p9svfsMUo9hoJMTw7/CKt3+x6JQw1+Fl+HXl9l8GTMBRf/7vvy/n4TYi62Tm05FkZHhxAW4jMlCKf/Hn75d6faSogOtk1nXgZ/r5/MLz/1i8KLH6xb8/6+M5kOMQplNIWY2P4dfFCz+xaczd9xPVpQwM8EBgFJFm/bN7w82f2CSZuVh+vz9z4RcDFklGdsbnDw/Mfv8fm+T/7/uf/L367g+aS2AuZ2L6D0+RVAAAL3Jry3vv1vcAAAAASUVORK5CYII=\"/>\n",
       "            <a href=\"#!\">\n",
       "                <span class=\"ipyplot-img-close\"/>\n",
       "            </a>\n",
       "            <a href=\"#ipyplot-content-div-9LdjYyagisdFRZcoTbDoiE-HSW6T52zkWmeMEyJYcdUAC\">\n",
       "                <span class=\"ipyplot-img-expand\"/>\n",
       "            </a>\n",
       "        </div>\n",
       "    </div>\n",
       "    </div>\n",
       "        </textarea>\n",
       "    </div>\n",
       "    "
      ],
      "text/plain": [
       "<IPython.core.display.HTML object>"
      ]
     },
     "metadata": {},
     "output_type": "display_data"
    },
    {
     "data": {
      "text/html": [
       "\n",
       "        <style>\n",
       "        #ipyplot-imgs-container-div-9LdjYyagisdFRZcoTbDoiE {\n",
       "            width: 100%;\n",
       "            height: 100%;\n",
       "            margin: 0%;\n",
       "            overflow: auto;\n",
       "            position: relative;\n",
       "            overflow-y: scroll;\n",
       "        }\n",
       "\n",
       "        div.ipyplot-placeholder-div-9LdjYyagisdFRZcoTbDoiE {\n",
       "            width: 150px;\n",
       "            display: inline-block;\n",
       "            margin: 3px;\n",
       "            position: relative;\n",
       "        }\n",
       "\n",
       "        div.ipyplot-content-div-9LdjYyagisdFRZcoTbDoiE {\n",
       "            width: 150px;\n",
       "            background: white;\n",
       "            display: inline-block;\n",
       "            vertical-align: top;\n",
       "            text-align: center;\n",
       "            position: relative;\n",
       "            border: 2px solid #ddd;\n",
       "            top: 0;\n",
       "            left: 0;\n",
       "        }\n",
       "\n",
       "        div.ipyplot-content-div-9LdjYyagisdFRZcoTbDoiE span.ipyplot-img-close {\n",
       "            display: none;\n",
       "        }\n",
       "\n",
       "        div.ipyplot-content-div-9LdjYyagisdFRZcoTbDoiE span {\n",
       "            width: 100%;\n",
       "            height: 100%;\n",
       "            position: absolute;\n",
       "            top: 0;\n",
       "            left: 0;\n",
       "        }\n",
       "\n",
       "        div.ipyplot-content-div-9LdjYyagisdFRZcoTbDoiE img {\n",
       "            width: 150px;\n",
       "        }\n",
       "\n",
       "        div.ipyplot-content-div-9LdjYyagisdFRZcoTbDoiE span.ipyplot-img-close:hover {\n",
       "            cursor: zoom-out;\n",
       "        }\n",
       "        div.ipyplot-content-div-9LdjYyagisdFRZcoTbDoiE span.ipyplot-img-expand:hover {\n",
       "            cursor: zoom-in;\n",
       "        }\n",
       "\n",
       "        div[id^=ipyplot-content-div-9LdjYyagisdFRZcoTbDoiE]:target {\n",
       "            transform: scale(2.5);\n",
       "            transform-origin: left top;\n",
       "            z-index: 5000;\n",
       "            top: 0;\n",
       "            left: 0;\n",
       "            position: absolute;\n",
       "        }\n",
       "\n",
       "        div[id^=ipyplot-content-div-9LdjYyagisdFRZcoTbDoiE]:target span.ipyplot-img-close {\n",
       "            display: block;\n",
       "        }\n",
       "\n",
       "        div[id^=ipyplot-content-div-9LdjYyagisdFRZcoTbDoiE]:target span.ipyplot-img-expand {\n",
       "            display: none;\n",
       "        }\n",
       "        </style>\n",
       "    <div id=\"ipyplot-imgs-container-div-9LdjYyagisdFRZcoTbDoiE\">\n",
       "    <div class=\"ipyplot-placeholder-div-9LdjYyagisdFRZcoTbDoiE\">\n",
       "        <div id=\"ipyplot-content-div-9LdjYyagisdFRZcoTbDoiE-L9uXiWPnbLFJQYn6biuCqP\" class=\"ipyplot-content-div-9LdjYyagisdFRZcoTbDoiE\">\n",
       "            <h4 style=\"font-size: 12px; word-wrap: break-word;\">F</h4>\n",
       "            <img src=\"data:image/png;base64,iVBORw0KGgoAAAANSUhEUgAAABwAAAAcCAAAAABXZoBIAAABRElEQVR4nK2RP0tDMRTFT24bWqGtqVSfXYpLp4e6OAmlooM4+lGcxUH8CKKzow5SOroJBTcFqUV0seAkxWf6RxH6kji0aWnNc/IsN+HHubnnBvhDzB7ig6L1NEzkeaacBgDdaGjIQI0Nse19wT0OAEZK6PpFrWWsc/5kt/0+6sU9Cq6OXqxTLJvz076FmfKsv755puwcRIut1sh6z7Irz8reik/6sejKQBPFykzEmxIRwjHkgisNIgDc4+T7vUpzAPtd5A9u6w34PgHpjTSE+MZxiDiAt+vV5M5Wu8OEYIBmDDC90FinMa/VrLck5XCB0A81NXpTVQ5pJgUAkNLYDxhC0/kK5e+hnVH+B3b7SLlWRQDUXcByyQgYW5vTzc8IWCglPurKAQHE97rh5YKTACbs6JvABRmAXKlQbbq7AqBYJIrWD707b5qd5YwwAAAAAElFTkSuQmCC\"/>\n",
       "            <a href=\"#!\">\n",
       "                <span class=\"ipyplot-img-close\"/>\n",
       "            </a>\n",
       "            <a href=\"#ipyplot-content-div-9LdjYyagisdFRZcoTbDoiE-L9uXiWPnbLFJQYn6biuCqP\">\n",
       "                <span class=\"ipyplot-img-expand\"/>\n",
       "            </a>\n",
       "        </div>\n",
       "    </div>\n",
       "    \n",
       "    <div class=\"ipyplot-placeholder-div-9LdjYyagisdFRZcoTbDoiE\">\n",
       "        <div id=\"ipyplot-content-div-9LdjYyagisdFRZcoTbDoiE-2zXChDpYmsEjpqtYNNdpno\" class=\"ipyplot-content-div-9LdjYyagisdFRZcoTbDoiE\">\n",
       "            <h4 style=\"font-size: 12px; word-wrap: break-word;\">Z</h4>\n",
       "            <img src=\"data:image/png;base64,iVBORw0KGgoAAAANSUhEUgAAABwAAAAcCAAAAABXZoBIAAABU0lEQVR4nGNgoD9gZGBgYGD5/xfCY2GUZmVg+PD2H1ySMbL2kS+zuJEuA683kwwrA8P1vINwzXpf/r1Zd+/rr1+/Xt68ee/fv9v6rFAZFgYWVy5GId9/Hw5fZrh8mUF/OUPLpf9wjQqn/327U68mysTAwMAgfuv7YnYkJ4nMXKXHCWX7nf8zXwzFvSKiMCbn+t+3lRmxe4tz8Z/nKji8rLz47wZ9HHLM879+9WfGLscY/f1bNA77GMRu/V7PiUtu/t/FijjkhNd/vyWGQ47B+MefZFQLmZgQFv77d7FYiQkhJ7aykgPCUlz879+/f39frSkyVmBlYmFhVaq/+HeFCCSyC5u4Hv6WYWVi+Pny3earcrxM3pocr6P3/2NkYGBgsLf7MuuXNLu2vreQNDMD49//T88dX3cfmkzggIVVRlebYdunJz//MTCgS0Jc+QeXn6gEAPLpcWO5+URfAAAAAElFTkSuQmCC\"/>\n",
       "            <a href=\"#!\">\n",
       "                <span class=\"ipyplot-img-close\"/>\n",
       "            </a>\n",
       "            <a href=\"#ipyplot-content-div-9LdjYyagisdFRZcoTbDoiE-2zXChDpYmsEjpqtYNNdpno\">\n",
       "                <span class=\"ipyplot-img-expand\"/>\n",
       "            </a>\n",
       "        </div>\n",
       "    </div>\n",
       "    \n",
       "    <div class=\"ipyplot-placeholder-div-9LdjYyagisdFRZcoTbDoiE\">\n",
       "        <div id=\"ipyplot-content-div-9LdjYyagisdFRZcoTbDoiE-LMyjhixrmN6BFegSf22CFj\" class=\"ipyplot-content-div-9LdjYyagisdFRZcoTbDoiE\">\n",
       "            <h4 style=\"font-size: 12px; word-wrap: break-word;\">h</h4>\n",
       "            <img src=\"data:image/png;base64,iVBORw0KGgoAAAANSUhEUgAAABwAAAAcCAAAAABXZoBIAAABH0lEQVR4nGNgoA5QKBNC5jKhcIxihXFKsluxMeCUVHVhwC3pr3n5A247Ga/ikfz/8T8DDsBx4aUYLjkGva83WXE5iDWQ/fJfFEkWBFNA9+fxfwyiAr8foyphYGBgYDS5t8GytufFz6+zxDEkReZ/P7Tl56+f7769amZH15jw6t+/72fq1aT0dn83Qtd46+//r0uUOBgYGEJeFrGgyDGH/Pn3NZqTgYGBgUH15hpRFK/IRzP9XL/uO5SnLYCicfXvb/NhwaN682UAsk55W+adra+hkvCAgTBY/EV/LrgPC3RtgffXkEwVXfP3DNyBTKv+9HAi6RTQ/rn5D0Lt/2e/kc1n3DodLvXv+NsNEJUQw37fX/wWoXH9p6eoYcBAMgAA+jZgyfvqZnAAAAAASUVORK5CYII=\"/>\n",
       "            <a href=\"#!\">\n",
       "                <span class=\"ipyplot-img-close\"/>\n",
       "            </a>\n",
       "            <a href=\"#ipyplot-content-div-9LdjYyagisdFRZcoTbDoiE-LMyjhixrmN6BFegSf22CFj\">\n",
       "                <span class=\"ipyplot-img-expand\"/>\n",
       "            </a>\n",
       "        </div>\n",
       "    </div>\n",
       "    \n",
       "    <div class=\"ipyplot-placeholder-div-9LdjYyagisdFRZcoTbDoiE\">\n",
       "        <div id=\"ipyplot-content-div-9LdjYyagisdFRZcoTbDoiE-AgZiSwShxbRpiXMheTmkBn\" class=\"ipyplot-content-div-9LdjYyagisdFRZcoTbDoiE\">\n",
       "            <h4 style=\"font-size: 12px; word-wrap: break-word;\">f</h4>\n",
       "            <img src=\"data:image/png;base64,iVBORw0KGgoAAAANSUhEUgAAABwAAAAcCAAAAABXZoBIAAABWUlEQVR4nGNgIBowMaFwGZHYrBo1vFe/MPy7uu0HhjZWq8M/f3z79v3nizpFRnSdutNMdl34x6OoI8i1oe4+qkbG7l/3uBkYGJhYxZZ8qoU4AS7J58Py8ycDA8O/368mPMaw8uavHhhTXoiBgYGBgQUu+R+h7vdDDD+u+XOHE6pTRBhN57/jnpLiDxiYmKWFfLXf5PxDkWQ48FJG9Kmgja6vkDTDejSdDN/+sGz9wC/E+PbxOtYJ/5AkGRmFZeOEGEVEvj+8sOzCc7ZPSI7RnrT25a9fv/782aTEiRT2EJ2WMXz/3i35amdz5z6Sj6BAJLfWSJSBpf7fdRZkYQjnzXSGPwwMDP8Y2Fn/IHsdQv35w8DA8O/qPwlVDFNhgPPev3pWTJ0Q8Psdg64ALsk/y7/jlmTY/5yVD6elHPW/V4nilDX+dR3JvSyokm9vP/mNUycDCwtuOVQAAFaCbuv8ADmrAAAAAElFTkSuQmCC\"/>\n",
       "            <a href=\"#!\">\n",
       "                <span class=\"ipyplot-img-close\"/>\n",
       "            </a>\n",
       "            <a href=\"#ipyplot-content-div-9LdjYyagisdFRZcoTbDoiE-AgZiSwShxbRpiXMheTmkBn\">\n",
       "                <span class=\"ipyplot-img-expand\"/>\n",
       "            </a>\n",
       "        </div>\n",
       "    </div>\n",
       "    \n",
       "    <div class=\"ipyplot-placeholder-div-9LdjYyagisdFRZcoTbDoiE\">\n",
       "        <div id=\"ipyplot-content-div-9LdjYyagisdFRZcoTbDoiE-GL9aV3CzjUdeGY9cJKsnob\" class=\"ipyplot-content-div-9LdjYyagisdFRZcoTbDoiE\">\n",
       "            <h4 style=\"font-size: 12px; word-wrap: break-word;\">H</h4>\n",
       "            <img src=\"data:image/png;base64,iVBORw0KGgoAAAANSUhEUgAAABwAAAAcCAAAAABXZoBIAAABKElEQVR4nGNgIAkwsTDBmIwYcvaWRw//w6KHmYGBQWzV51oWqAALQo7DVWnjAyYbO3a4sQhJJtdeMaZ+dkuh358xJZlNFBj4GGR8WO5v/QNTD5cU0GaCCsCdgyGJ4kKsTJwi2CSZdAUY/v/DIcmsK8Dw4SqqD+CSgnrMDB9vsgqwMgiHCUHFYKqYrK2ZGITS3xtIMgh4LHyHajxzwZd////9/vXn379X8exoxv49/IrhPwMzEwMDw/sTP9GMZfj0m+HnrgtXDAs4GDAjzPjev3umrMzG9/7dVGVA08liL87w+8Nvhk+/sfiTVYoVwzC4pJAR8/+Pv9EkYcY+b97/ZcNDHJL/Dh5m+MOAQ5LhH8QDvz/8+gA3HT1psrvpX9z1kwEHQErT+AEAVOJUM7NQQ5YAAAAASUVORK5CYII=\"/>\n",
       "            <a href=\"#!\">\n",
       "                <span class=\"ipyplot-img-close\"/>\n",
       "            </a>\n",
       "            <a href=\"#ipyplot-content-div-9LdjYyagisdFRZcoTbDoiE-GL9aV3CzjUdeGY9cJKsnob\">\n",
       "                <span class=\"ipyplot-img-expand\"/>\n",
       "            </a>\n",
       "        </div>\n",
       "    </div>\n",
       "    \n",
       "    <div class=\"ipyplot-placeholder-div-9LdjYyagisdFRZcoTbDoiE\">\n",
       "        <div id=\"ipyplot-content-div-9LdjYyagisdFRZcoTbDoiE-icdUMWiAkoDmJjZxkqkBYb\" class=\"ipyplot-content-div-9LdjYyagisdFRZcoTbDoiE\">\n",
       "            <h4 style=\"font-size: 12px; word-wrap: break-word;\">V</h4>\n",
       "            <img src=\"data:image/png;base64,iVBORw0KGgoAAAANSUhEUgAAABwAAAAcCAAAAABXZoBIAAABWklEQVR4nJWQP0vDUBTFz0sDrSAltrUqKKSG2qH+W4UuQgdFl7qLTg5+B+sHcHHVNcVJED9BFQRR0erYQRFBaKBKUWOb+HqfQ4kkzxb0TZfz45x37wH+9pTQL+VnCi9tJnoa9YvnghKUfE5NS/WC6vIoY1KY6g2xuTD191hIyeWUr3dPDUkwOwDrlAMAohPr4UDC4CGnKx0AMHxQb6UDzrFZBScWAMQ38jEWiFXnR0DnDgA2tZpAoyGnuhkASFYcal+q/lO0rAIQgL7FyZB42OV+Z7pK/GYczDBtapaMYBuZKvFynBmmTe3KjNTUikVUGzJMm6i2FjwS2HKInAXTJmruJyWGbVcIfvZJ1DpKyvVjxxWCiOg+H/epnRJYggEMcK/vXnywc6d4EgDwWjr2M68ELgQD6ntVkj8EMH1LRB/FSBcERIpvrmOmJNXbWy9EqfQoukOoAMd/3jeQZ3zXG60yDAAAAABJRU5ErkJggg==\"/>\n",
       "            <a href=\"#!\">\n",
       "                <span class=\"ipyplot-img-close\"/>\n",
       "            </a>\n",
       "            <a href=\"#ipyplot-content-div-9LdjYyagisdFRZcoTbDoiE-icdUMWiAkoDmJjZxkqkBYb\">\n",
       "                <span class=\"ipyplot-img-expand\"/>\n",
       "            </a>\n",
       "        </div>\n",
       "    </div>\n",
       "    \n",
       "    <div class=\"ipyplot-placeholder-div-9LdjYyagisdFRZcoTbDoiE\">\n",
       "        <div id=\"ipyplot-content-div-9LdjYyagisdFRZcoTbDoiE-cazs9gq7gCESbZhrqXs2Hd\" class=\"ipyplot-content-div-9LdjYyagisdFRZcoTbDoiE\">\n",
       "            <h4 style=\"font-size: 12px; word-wrap: break-word;\">T</h4>\n",
       "            <img src=\"data:image/png;base64,iVBORw0KGgoAAAANSUhEUgAAABwAAAAcCAAAAABXZoBIAAABK0lEQVR4nLXPvUoDQRQF4LO7A0l00whGS9ekUsTGxkIQ8gD7ABbaW1ra+BQKVsFdCwsJRNKYTguFFGKRJigSREQMIbBm8zPZMzaJP+ykzG1m4Lv3cC8wlTLGHzF+0zbEaq0x+MW5pe00AODLXnPQXqmd3beao/b5iwH/17B3bY3SZh3xkw8oDNVbsxCN8ONmQw0BwDQNKPRO2uXW+3iP/lUQlAmkjjcNJUt+Sf1d2hQCQGYvJPm4aMWvEvknSYbFvObipFshGXk5zVxity7J/kPWiFvWkyTDw4wmM+V1SHa8GY2t+xEZPbvJOBkLt13ys7qjWQWZ0z7ZPcolNOZ4XcqiqxsDDgLKyrLeRJX0HS2ZgImo8DoB+UJrf2sS3nWk0hoEcEn7vKHX6dQ3qT6IeXjzP9cAAAAASUVORK5CYII=\"/>\n",
       "            <a href=\"#!\">\n",
       "                <span class=\"ipyplot-img-close\"/>\n",
       "            </a>\n",
       "            <a href=\"#ipyplot-content-div-9LdjYyagisdFRZcoTbDoiE-cazs9gq7gCESbZhrqXs2Hd\">\n",
       "                <span class=\"ipyplot-img-expand\"/>\n",
       "            </a>\n",
       "        </div>\n",
       "    </div>\n",
       "    \n",
       "    <div class=\"ipyplot-placeholder-div-9LdjYyagisdFRZcoTbDoiE\">\n",
       "        <div id=\"ipyplot-content-div-9LdjYyagisdFRZcoTbDoiE-Ry4KNwgvA8YTbDKmSWMXBC\" class=\"ipyplot-content-div-9LdjYyagisdFRZcoTbDoiE\">\n",
       "            <h4 style=\"font-size: 12px; word-wrap: break-word;\">h</h4>\n",
       "            <img src=\"data:image/png;base64,iVBORw0KGgoAAAANSUhEUgAAABwAAAAcCAAAAABXZoBIAAAA30lEQVR4nGNgIAow4RHiKPPFIg0FQS/mC+DUqSP05gdOSUaGL3+IcAaVJXUF8UjqCOCRZCRoJxMLEgfO/s/AwMDAwOmpsOfyfwwjHB7fVOWqv/D97xd/ZgxjjYQYuUtzGHoecMYIYeis//Xz8Xo9TgaVDfeMsUj+uy3GwMDAYPytHotr37S+ZmBgYPjEpMuEKfnoAMSZjHrM6JJ8jFufMjAwMDA8viGthSbJ4sD0EaLxx7o/OWhBo/ftqxKUya6ggObYuv+3WDF8ADOA8f8nzFCDAd8TfjjlGBiY8chhBQDNLjjekbcfmAAAAABJRU5ErkJggg==\"/>\n",
       "            <a href=\"#!\">\n",
       "                <span class=\"ipyplot-img-close\"/>\n",
       "            </a>\n",
       "            <a href=\"#ipyplot-content-div-9LdjYyagisdFRZcoTbDoiE-Ry4KNwgvA8YTbDKmSWMXBC\">\n",
       "                <span class=\"ipyplot-img-expand\"/>\n",
       "            </a>\n",
       "        </div>\n",
       "    </div>\n",
       "    \n",
       "    <div class=\"ipyplot-placeholder-div-9LdjYyagisdFRZcoTbDoiE\">\n",
       "        <div id=\"ipyplot-content-div-9LdjYyagisdFRZcoTbDoiE-jTyeKeGrvQWPqsRSn7fPZq\" class=\"ipyplot-content-div-9LdjYyagisdFRZcoTbDoiE\">\n",
       "            <h4 style=\"font-size: 12px; word-wrap: break-word;\">Y</h4>\n",
       "            <img src=\"data:image/png;base64,iVBORw0KGgoAAAANSUhEUgAAABwAAAAcCAAAAABXZoBIAAABeUlEQVR4nJWRv0sCYRjHv6/eoVaW3nEuCYoQDiaBS9RaLW0aRBDl1hQUNFdDYy39BS0NUU0FbVFgIBSkUA5CGGTlDzI1CDvPe6/hOvPOa+iZnvf7eZ/v8zzvC/wzLFYtaUuaAtv0st9wnVvUlMB1bY3RV3Ir8R7VIeLrG3XpIeldmLICADfLKYqxJ/HNcwDgClsrh1U9lOqW8I8ZvUrIeljYfbQNsgD6WTH5btyO3fx6jQLMupgNdu0p3z7z4wSEwYfYBen5fisqwB2ilyWjK4DIgxRjZ4qlmKWrEnhKtMa8c3wtQ00qyUg6t1eWb/wmDHBsyxJt7ji0c6ctxKTCQKlLekh4DgBouqGgo6UK+a0lOwC8XFDk022ofpx7YqBw3KDEG7JIp3noISBsDCczzlU/qneyYcyhLKXNUjbXoNKRB8bKlkIYQQBQOaj8QnWgyn7qTQEByicJoytgD8RTn02xGPeQDrWd24KTTnp/JsIMAgxAzZ78j/gGRMN+dFZLT+wAAAAASUVORK5CYII=\"/>\n",
       "            <a href=\"#!\">\n",
       "                <span class=\"ipyplot-img-close\"/>\n",
       "            </a>\n",
       "            <a href=\"#ipyplot-content-div-9LdjYyagisdFRZcoTbDoiE-jTyeKeGrvQWPqsRSn7fPZq\">\n",
       "                <span class=\"ipyplot-img-expand\"/>\n",
       "            </a>\n",
       "        </div>\n",
       "    </div>\n",
       "    \n",
       "    <div class=\"ipyplot-placeholder-div-9LdjYyagisdFRZcoTbDoiE\">\n",
       "        <div id=\"ipyplot-content-div-9LdjYyagisdFRZcoTbDoiE-Betv2yWbGrS8BJpRnMzyGW\" class=\"ipyplot-content-div-9LdjYyagisdFRZcoTbDoiE\">\n",
       "            <h4 style=\"font-size: 12px; word-wrap: break-word;\">6</h4>\n",
       "            <img src=\"data:image/png;base64,iVBORw0KGgoAAAANSUhEUgAAABwAAAAcCAAAAABXZoBIAAABEElEQVR4nH3Pu0oDQRQG4H8uMUGCRLBfL9ul0MJCUIIQqzQLwc6H8WG2dzoLBQtNk1SC2Ei8YCNpjGJ2417mrIWrZM1ZTzPMfDPnnwP8U2L+SIOoBJXj1a/PIraTapuPqL/Kp7gmpukFi2LDDyk2mxUO1/yAQtNWnC0eTyj0XdZqR/cUG5eZDtDenZ2yPaVeODhPaLg9azq3vVZlt6U+L58s87AzmKSUlARW9x+IRofFQJmv0UsCvN1YFqs7y1zD71ofWKJRVxYO853ccoRAo8ljswEIUbTfTCmYIWbvZhmxqOsAML4lDmsrAhn1eiwGjzZD3H9l29qr0yAdD/9k/vxROd7S+8kzj4AG0vlpyusLlVxd/7m0R5kAAAAASUVORK5CYII=\"/>\n",
       "            <a href=\"#!\">\n",
       "                <span class=\"ipyplot-img-close\"/>\n",
       "            </a>\n",
       "            <a href=\"#ipyplot-content-div-9LdjYyagisdFRZcoTbDoiE-Betv2yWbGrS8BJpRnMzyGW\">\n",
       "                <span class=\"ipyplot-img-expand\"/>\n",
       "            </a>\n",
       "        </div>\n",
       "    </div>\n",
       "    \n",
       "    <div class=\"ipyplot-placeholder-div-9LdjYyagisdFRZcoTbDoiE\">\n",
       "        <div id=\"ipyplot-content-div-9LdjYyagisdFRZcoTbDoiE-QesjVTrmMwoGAtikPdUXFc\" class=\"ipyplot-content-div-9LdjYyagisdFRZcoTbDoiE\">\n",
       "            <h4 style=\"font-size: 12px; word-wrap: break-word;\">r</h4>\n",
       "            <img src=\"data:image/png;base64,iVBORw0KGgoAAAANSUhEUgAAABwAAAAcCAAAAABXZoBIAAABM0lEQVR4nM3QzUrDQBAH8NltNkby0eQg9aNKPKQnqRcv3orgk/gGvpIP4MGjJ0HFQ49REGtaEAmhUtJuaks22fFgY9sUzzqngd/+2ZkB+GdFioZSVmMgxnw6R6VoHMtpGYT3Oi9CyhLSZnPnxCC861/FfJAvo3p8Wt9mIOoNIwpuucgW/lz3LjwtHY11XZGC372Gl1FaJCumV1Px3Q92XcOEtOH020OBM2SbBxYRD9dPddd0yedaFE/wZ2b3vC1FcKQTqjDbNm2N0flAqmkAZjxFlDAEAFyYtlK1VAJSIsyhQFY99AwUiSifTwGobLTO9qw8uomyElIAnL7dPyeYJWUDBUDyR43tWyixjBQAxKDXn+S5LNtsFRGHehj/giNf73b8lej34Vm1thVGHyvR5Vd/X18P3nlRkpFslwAAAABJRU5ErkJggg==\"/>\n",
       "            <a href=\"#!\">\n",
       "                <span class=\"ipyplot-img-close\"/>\n",
       "            </a>\n",
       "            <a href=\"#ipyplot-content-div-9LdjYyagisdFRZcoTbDoiE-QesjVTrmMwoGAtikPdUXFc\">\n",
       "                <span class=\"ipyplot-img-expand\"/>\n",
       "            </a>\n",
       "        </div>\n",
       "    </div>\n",
       "    \n",
       "    <div class=\"ipyplot-placeholder-div-9LdjYyagisdFRZcoTbDoiE\">\n",
       "        <div id=\"ipyplot-content-div-9LdjYyagisdFRZcoTbDoiE-P6qGgvgKeL9tSMpGPNcvwm\" class=\"ipyplot-content-div-9LdjYyagisdFRZcoTbDoiE\">\n",
       "            <h4 style=\"font-size: 12px; word-wrap: break-word;\">E</h4>\n",
       "            <img src=\"data:image/png;base64,iVBORw0KGgoAAAANSUhEUgAAABwAAAAcCAAAAABXZoBIAAABoElEQVR4nKWRv2sTYRjHP++bO1JC2l5aQYO2pLRS8foPOLp0Ev+ADt07urm4Ozi4uTg5OAt1EQclFQSnlFikjS0nKLHIJSGX6v3K8zokuTvErc/08Hz4Ps/3eR64XNgrV9R/ygooX608sJ4FAmn458KkGbSA+rasrw5GAqNf517UjU0unnvk+6EkcRzHv3s/jj/trBdGLD75chaZNIknkZw8X87bDh+/uPm0ftD2AdDu9aQw0/TsW2XT3vemcOV0VDAk1c1F43udSaWjjBQg6IIFyVNrlmgrS5XjkHSjHKrajWx57bqMXnkmg6Wde5lJHIfo9kM/VzoLoLUZA2D6P09N3jZ82xlW1xrSDADk6OtJmMNgvzWorjXkYAjAIAhnbrWm3zxLOJy1LayiXVcjBkQAtaCC8T9wukXJWd2tvH4T5kfQGmXZgF2tbd3ZrpQOvRyKsLTXF5hvbNVqJXP35TeTHf6ovbG0ZwA00fee12yZTCkf0o1NG0jO488f3/Uu+tNLKoByfff+PBC8D9qtbiKzx0x/NXdtokzHhY9dIv4C+2yxnARzbAgAAAAASUVORK5CYII=\"/>\n",
       "            <a href=\"#!\">\n",
       "                <span class=\"ipyplot-img-close\"/>\n",
       "            </a>\n",
       "            <a href=\"#ipyplot-content-div-9LdjYyagisdFRZcoTbDoiE-P6qGgvgKeL9tSMpGPNcvwm\">\n",
       "                <span class=\"ipyplot-img-expand\"/>\n",
       "            </a>\n",
       "        </div>\n",
       "    </div>\n",
       "    \n",
       "    <div class=\"ipyplot-placeholder-div-9LdjYyagisdFRZcoTbDoiE\">\n",
       "        <div id=\"ipyplot-content-div-9LdjYyagisdFRZcoTbDoiE-52pVrqSgSVPn48hiAmWEK9\" class=\"ipyplot-content-div-9LdjYyagisdFRZcoTbDoiE\">\n",
       "            <h4 style=\"font-size: 12px; word-wrap: break-word;\">d</h4>\n",
       "            <img src=\"data:image/png;base64,iVBORw0KGgoAAAANSUhEUgAAABwAAAAcCAAAAABXZoBIAAABHklEQVR4nGNgIAEIieCWY1p1SxGnJMvNf6uZcUv++eaLMAdVkpVl5u14JhyS4uKv1tmK4JB89YphPU8MDklpaYbrT3jhLkCWYhJiZ+RF5iOxFVZcyWHwZsEqydwd/DuM5RsLCzZJL58tuosZLvMJfMaUZI5nO/jh4L+3lmwbGDCA2Isvegzqv+7Ov8OJKVn0t5eRQfTlv789WOzkZ/zwn+H9B0aGp5gaWc78MmJgYLn5byMHpk4tze1XGRgYGBjO/cCU9Oc895OBQUgA2TTU6BHpE8UqycDAwMBZHfnxvxE7Np9sCrvwe7fWhV9GmJJit/7++XtekaH4by2mJINi/el5XAwMYnf2YE2dLEwMDAwMfs/zsUlCgagQHkkEAADLrFF+SRTjWQAAAABJRU5ErkJggg==\"/>\n",
       "            <a href=\"#!\">\n",
       "                <span class=\"ipyplot-img-close\"/>\n",
       "            </a>\n",
       "            <a href=\"#ipyplot-content-div-9LdjYyagisdFRZcoTbDoiE-52pVrqSgSVPn48hiAmWEK9\">\n",
       "                <span class=\"ipyplot-img-expand\"/>\n",
       "            </a>\n",
       "        </div>\n",
       "    </div>\n",
       "    \n",
       "    <div class=\"ipyplot-placeholder-div-9LdjYyagisdFRZcoTbDoiE\">\n",
       "        <div id=\"ipyplot-content-div-9LdjYyagisdFRZcoTbDoiE-erby9bHN22FzBdzDA36hTK\" class=\"ipyplot-content-div-9LdjYyagisdFRZcoTbDoiE\">\n",
       "            <h4 style=\"font-size: 12px; word-wrap: break-word;\">3</h4>\n",
       "            <img src=\"data:image/png;base64,iVBORw0KGgoAAAANSUhEUgAAABwAAAAcCAAAAABXZoBIAAABo0lEQVR4nJ2RSy8DURxHf3PNQ7VTWm3Fq516LCSalEg84pGINBEkBCsb3wRfgA3fwEJiYyl2wkJChKgmUo82tJ7RMJ2p0XHHgvQxunJXNzn3nNz7v8B/F5Pfsg4rlNevUpDh64MSYvtypkShee7wSVUfNhf8+Rj7y4Se0TYBcA60RJOaKevqXa5L78cgDYpns3d6sWn1fpyvbb8T19KInTNn5fCGuvdCLYJLUP5eiHA8726aX1e1XYk1maCc6Az4BwK8cpymZkhC40OOCr6srLxWsic+jSLIeH3MbTzuC4pjXanVk0i2EBphplqOx33X/qDHPdmQeM21AYCwLEtALO7OxS05Oe0pNEEpANCMlqaJPnt79KkQ5g5lItpb1YQc0QHy58WMt7uKGAZKmcTSM2LLhq8oij4bQLnYKPVN1X5dzkdVk8lyrS29/o46XB7da8ibhHC2xuGaUI0T+sXpyv2zkYNCZb9U7wt6WEO5vTnYefhBv1lPYKbJabW96O+xg+uTZNZAHjKu6sgFIO+mNSVFC+bGAIBDFABkH3WDFo30/+sbpouS8afWzI4AAAAASUVORK5CYII=\"/>\n",
       "            <a href=\"#!\">\n",
       "                <span class=\"ipyplot-img-close\"/>\n",
       "            </a>\n",
       "            <a href=\"#ipyplot-content-div-9LdjYyagisdFRZcoTbDoiE-erby9bHN22FzBdzDA36hTK\">\n",
       "                <span class=\"ipyplot-img-expand\"/>\n",
       "            </a>\n",
       "        </div>\n",
       "    </div>\n",
       "    \n",
       "    <div class=\"ipyplot-placeholder-div-9LdjYyagisdFRZcoTbDoiE\">\n",
       "        <div id=\"ipyplot-content-div-9LdjYyagisdFRZcoTbDoiE-kdaRWz8ib99TesaJY5kZth\" class=\"ipyplot-content-div-9LdjYyagisdFRZcoTbDoiE\">\n",
       "            <h4 style=\"font-size: 12px; word-wrap: break-word;\">Y</h4>\n",
       "            <img src=\"data:image/png;base64,iVBORw0KGgoAAAANSUhEUgAAABwAAAAcCAAAAABXZoBIAAABVElEQVR4nJWQwUsCURDGv31vwTWCQmWPJWYeDepUBFHQMco8dAnsL6h7Uh3qFtSpa10iCKOoe5e8RZAYRYRoCNFWqBSWrLvvbYdWWddX0FxmmN8M830D/DNkahdSoyNZjSoYMw7KzmEaHFPssnPt/TbsZGT8+GaKAAB8y3nzMthyZaVW3/QCACJ37DXhsXfsROXJfgCgUT8e03oL/NARiSkA/HO+t52nVvWhU5NfhQAyqxkptSnlJxUvdPRMBOAd7i7sl9zGo9eMPSe7ZnIvC4qbwZPQOM9vnxv3kTYGqEcm54b5uRsQQHlR4xY3TsKSAEJdr3KuxamIAX1npsOGwwoAVE2UD0tiSEdHSCXLxLB33s+yFfFFZbXKc9NiOdJAhmnJDvGiulf72lDFjMY1nht0d0lTjZ4u/rK4VKk/DLU9TgYAWJktUipYbmhPEwKLudnf8Q3JbXJB6DPIPAAAAABJRU5ErkJggg==\"/>\n",
       "            <a href=\"#!\">\n",
       "                <span class=\"ipyplot-img-close\"/>\n",
       "            </a>\n",
       "            <a href=\"#ipyplot-content-div-9LdjYyagisdFRZcoTbDoiE-kdaRWz8ib99TesaJY5kZth\">\n",
       "                <span class=\"ipyplot-img-expand\"/>\n",
       "            </a>\n",
       "        </div>\n",
       "    </div>\n",
       "    \n",
       "    <div class=\"ipyplot-placeholder-div-9LdjYyagisdFRZcoTbDoiE\">\n",
       "        <div id=\"ipyplot-content-div-9LdjYyagisdFRZcoTbDoiE-F3mBfYqMke57oW8U9ekCzM\" class=\"ipyplot-content-div-9LdjYyagisdFRZcoTbDoiE\">\n",
       "            <h4 style=\"font-size: 12px; word-wrap: break-word;\">4</h4>\n",
       "            <img src=\"data:image/png;base64,iVBORw0KGgoAAAANSUhEUgAAABwAAAAcCAAAAABXZoBIAAABe0lEQVR4nGNgIB0wMzEwMDAwYZXjyrbBLsHAwKB76Lwepk5GCBlsvOEWugZG5X5dVgYGBpn3v4wY0HUKV6eEcTIwMPIyvGdiRNPI7nLnjjIjA4Pi4l+rWdAc6L/+58diBgYG1vqfd4xQ5Viq7/x+26/AwMAgsfbPNkkUOZX5P3/fMhZkYGBg2f/zmyUrA5KdIuu//d7tz8jAwMCo8urveU4GLitBmBxz8K9/5/1ZGBgYGETm/X0RzyRWt0IeKsfke+ffn6kNRWqiLOzxr761yDfcOacPM5e1/uf/f79+fb2xptjp/N+PC9d+eh7FDgswheW6t15dk9MWEmL6x8zA8OdR+eFXEC8wMDB8Wsq28dtHbgH9CAchhh/X9h/a9hfJI8yQAOFwOfLvRYsSJ9bYMrj177INK5IAkipWEwGG6zd/Y9PGwGj8/e9dZfTYgAKx+f9+deOQYwp68fOCL3Y5Buc9v1eZ40hVjLN/vFDBmeIU831wSTHA0jHxAAACF3bEUMQjUgAAAABJRU5ErkJggg==\"/>\n",
       "            <a href=\"#!\">\n",
       "                <span class=\"ipyplot-img-close\"/>\n",
       "            </a>\n",
       "            <a href=\"#ipyplot-content-div-9LdjYyagisdFRZcoTbDoiE-F3mBfYqMke57oW8U9ekCzM\">\n",
       "                <span class=\"ipyplot-img-expand\"/>\n",
       "            </a>\n",
       "        </div>\n",
       "    </div>\n",
       "    \n",
       "    <div class=\"ipyplot-placeholder-div-9LdjYyagisdFRZcoTbDoiE\">\n",
       "        <div id=\"ipyplot-content-div-9LdjYyagisdFRZcoTbDoiE-FHGngDUNmAPSNg4gpKiDWk\" class=\"ipyplot-content-div-9LdjYyagisdFRZcoTbDoiE\">\n",
       "            <h4 style=\"font-size: 12px; word-wrap: break-word;\">Y</h4>\n",
       "            <img src=\"data:image/png;base64,iVBORw0KGgoAAAANSUhEUgAAABwAAAAcCAAAAABXZoBIAAAA/0lEQVR4nGNgIBYw8zMwMDAwiIgwYsqxz78qwsDAoHhrjzSmpNvvrwoMDAzd/+pZMSWL/+1iZmAQe/HLCCrAhCTJwyDLyMAQI/buMRbJfwzsrAwMvAxLXmORXPpK1ouBkZfhM1av9Py719j46t82PmySvi/+/P33/088Fm8yMDCIBiW9+n+BA6scAwOD+Mt/9bjkGIr+fdPDJce89t8aZjiPCVVS2Jrh+F9cOov/fVbCJcdy5l83dn8wMDD4fv+C7BwUOxkd2KdfxqVR7ws8tjAA8+p/69mJtBEFcGzE7VSW4r84NDIadl9/87ceh0aOeS+/zscZV0yiCsy45LACAGxxSlytFToPAAAAAElFTkSuQmCC\"/>\n",
       "            <a href=\"#!\">\n",
       "                <span class=\"ipyplot-img-close\"/>\n",
       "            </a>\n",
       "            <a href=\"#ipyplot-content-div-9LdjYyagisdFRZcoTbDoiE-FHGngDUNmAPSNg4gpKiDWk\">\n",
       "                <span class=\"ipyplot-img-expand\"/>\n",
       "            </a>\n",
       "        </div>\n",
       "    </div>\n",
       "    \n",
       "    <div class=\"ipyplot-placeholder-div-9LdjYyagisdFRZcoTbDoiE\">\n",
       "        <div id=\"ipyplot-content-div-9LdjYyagisdFRZcoTbDoiE-9zU3TGjibsE2Qq3A56YdXf\" class=\"ipyplot-content-div-9LdjYyagisdFRZcoTbDoiE\">\n",
       "            <h4 style=\"font-size: 12px; word-wrap: break-word;\">W</h4>\n",
       "            <img src=\"data:image/png;base64,iVBORw0KGgoAAAANSUhEUgAAABwAAAAcCAAAAABXZoBIAAABuUlEQVR4nJ3Qz2sTQRjG8e9OZt1NhbitTStIZVFSFNEeKqig+OMqRZAiKkjwTxAP9hY9eBD8BxSJBy+ixR48eFUoCh40GkpaxXhQ0YgltbVpup2+42E3kC568T3OZx6edwb+Y5RWAHhhIUzbwJ3abQWo8lL0NZ/K3VuROY1CHdys80MpPOQBKMyNj+jz6UqkKmiYcu9mTmiT4tWXAoBfkdb+eLex0mUPyNZldji5dSuSkg+w61X0KwTCZZnMgwJ40eTcEOBc2u1mXeCAR7WZ4Kff9I0A9v43APRVxRIJbmnTd1YBkvTkMM9Mgs+LJjOSAXIu5MBBns50kvbnGkEAHB9EH9MEgVRWO8iXGr0B+BezsN0j6I0LYjRPQMG2AnD6ZHLYQR4YPdHPVhdLWNx0StvOasSvbpwZeCRmekXqOyalPtqV/P6BYN+Ro8xfe8/gnr2sLXb/83hD3t6MZK7nusj0vNQKADrBd838sFEsyoJ1DjtUF7qTfklEpDFOT0WsjUa7t6U91cbh82taj1sWu6ES3FmR9Ssa/GIkb/yNqMrL8mMnQP/DmQukxh8rT8QlSqcNcP5y9u/5A3sSmRxUYsb5AAAAAElFTkSuQmCC\"/>\n",
       "            <a href=\"#!\">\n",
       "                <span class=\"ipyplot-img-close\"/>\n",
       "            </a>\n",
       "            <a href=\"#ipyplot-content-div-9LdjYyagisdFRZcoTbDoiE-9zU3TGjibsE2Qq3A56YdXf\">\n",
       "                <span class=\"ipyplot-img-expand\"/>\n",
       "            </a>\n",
       "        </div>\n",
       "    </div>\n",
       "    \n",
       "    <div class=\"ipyplot-placeholder-div-9LdjYyagisdFRZcoTbDoiE\">\n",
       "        <div id=\"ipyplot-content-div-9LdjYyagisdFRZcoTbDoiE-9G7fF4QPuDL7neXiYbXzC3\" class=\"ipyplot-content-div-9LdjYyagisdFRZcoTbDoiE\">\n",
       "            <h4 style=\"font-size: 12px; word-wrap: break-word;\">O</h4>\n",
       "            <img src=\"data:image/png;base64,iVBORw0KGgoAAAANSUhEUgAAABwAAAAcCAAAAABXZoBIAAABwUlEQVR4nKXSP2/TQBgG8McXn+PG5yRNo8ZWBDgiQYJkgoGJCSpVAhZGPgVfi4WVAQYQEpU6uX880ERKkdLGalKV+JxSx/YdQ+qQEiZ4l3f43elO7/sA/1rKvBECQIi/oaKZjCIO+UzeQBUANLvTKoqw5/mXK0hY+/nDsuBexf0Wp3+gotutu0U5q5Qb7/xgiRUAWLv/+pUDII2PuoeHXX8kl95MptMYikSOtKxW52DvQ5T+RikEICEkdM20mo3jk0m8wHnFnMsa1TaY2d3Z+yFuoOAHXvxkvWTq9We8HyyQFk2KdPz57clm4+WLW3nHqY5SCRAAhN1xDJnw4OpyMLhIJFizXdOyIRiOwwTvH4ciFZCA+WB8PonmN0ENQ419r8eFygwK0Mrtmr74ECHK+e6XgVh7tL1lqfj+9f3OeIFCSN1uhbyw/djWkO5/3B3OMoynYcLa8t60sGWXiIxc9zSS1yim/X5902adRLUoSaNTdxjJbEKC91xrnVbKQA6zydDdn6RLMaGl+pu2SdT8zwvvkzvMtnKdoVz+aZPljOrZ2ZHnR9lGlaxvMEoK1VEQLAUpQxACJadfJSsRxMrR/61fFBzC5fTafUsAAAAASUVORK5CYII=\"/>\n",
       "            <a href=\"#!\">\n",
       "                <span class=\"ipyplot-img-close\"/>\n",
       "            </a>\n",
       "            <a href=\"#ipyplot-content-div-9LdjYyagisdFRZcoTbDoiE-9G7fF4QPuDL7neXiYbXzC3\">\n",
       "                <span class=\"ipyplot-img-expand\"/>\n",
       "            </a>\n",
       "        </div>\n",
       "    </div>\n",
       "    \n",
       "    <div class=\"ipyplot-placeholder-div-9LdjYyagisdFRZcoTbDoiE\">\n",
       "        <div id=\"ipyplot-content-div-9LdjYyagisdFRZcoTbDoiE-SwCv5BnJRZDAmCzKn2A8t2\" class=\"ipyplot-content-div-9LdjYyagisdFRZcoTbDoiE\">\n",
       "            <h4 style=\"font-size: 12px; word-wrap: break-word;\">L</h4>\n",
       "            <img src=\"data:image/png;base64,iVBORw0KGgoAAAANSUhEUgAAABwAAAAcCAAAAABXZoBIAAAAvElEQVR4nGNgIBows+CR23k9igOXJNOaP58LkfnIkv+O/2TnwyXJsOUJky4TLsl/DEwG7LgkGRgYZGVxSzIyyTPikPxw+T8jPy7J95cZmLSZcEiiAWpJsvLikRQ2wa/z3+V/OCSFBBm+n8MlaS/+/+RzHMay27P/Pf8Th6S0ExPDFxwO4orjZnx/mQE78L3z798pJexyjL2//n3RZ8QuKXbn3/fF7NjlmONv3NypiGoWktuYGP7/xeEcLAAAoLowHe9VA/wAAAAASUVORK5CYII=\"/>\n",
       "            <a href=\"#!\">\n",
       "                <span class=\"ipyplot-img-close\"/>\n",
       "            </a>\n",
       "            <a href=\"#ipyplot-content-div-9LdjYyagisdFRZcoTbDoiE-SwCv5BnJRZDAmCzKn2A8t2\">\n",
       "                <span class=\"ipyplot-img-expand\"/>\n",
       "            </a>\n",
       "        </div>\n",
       "    </div>\n",
       "    \n",
       "    <div class=\"ipyplot-placeholder-div-9LdjYyagisdFRZcoTbDoiE\">\n",
       "        <div id=\"ipyplot-content-div-9LdjYyagisdFRZcoTbDoiE-HSW6T52zkWmeMEyJYcdUAC\" class=\"ipyplot-content-div-9LdjYyagisdFRZcoTbDoiE\">\n",
       "            <h4 style=\"font-size: 12px; word-wrap: break-word;\">1</h4>\n",
       "            <img src=\"data:image/png;base64,iVBORw0KGgoAAAANSUhEUgAAABwAAAAcCAAAAABXZoBIAAABKElEQVR4nGNgIBcwYogwMf7/h0uSyV7r0ZUH/xkYGBgYWNAl2SycH/E++4nVGi79C1/f7pZmhpiCJilhIMH24clPrMayBEaI/r+w9f0/LJKc0nbyjH/v3PnLgMVYCXMdXobfrz5hcw1L4am//79d0OOAeQtZkpGPj/H/p9svfsMUo9hoJMTw7/CKt3+x6JQw1+Fl+HXl9l8GTMBRf/7vvy/n4TYi62Tm05FkZHhxAW4jMlCKf/Hn75d6faSogOtk1nXgZ/r5/MLz/1i8KLH6xb8/6+M5kOMQplNIWY2P4dfFCz+xaczd9xPVpQwM8EBgFJFm/bN7w82f2CSZuVh+vz9z4RcDFklGdsbnDw/Mfv8fm+T/7/uf/L367g+aS2AuZ2L6D0+RVAAAL3Jry3vv1vcAAAAASUVORK5CYII=\"/>\n",
       "            <a href=\"#!\">\n",
       "                <span class=\"ipyplot-img-close\"/>\n",
       "            </a>\n",
       "            <a href=\"#ipyplot-content-div-9LdjYyagisdFRZcoTbDoiE-HSW6T52zkWmeMEyJYcdUAC\">\n",
       "                <span class=\"ipyplot-img-expand\"/>\n",
       "            </a>\n",
       "        </div>\n",
       "    </div>\n",
       "    </div>"
      ],
      "text/plain": [
       "<IPython.core.display.HTML object>"
      ]
     },
     "metadata": {},
     "output_type": "display_data"
    }
   ],
   "source": [
    "ipyplot.plot_images(train_x[112000 : 112030], lab, max_images=21, img_width=150)"
   ]
  },
  {
   "cell_type": "code",
   "execution_count": 12,
   "metadata": {
    "_uuid": "9c148a5e8fc3c7ed58555af6a8960ff6c25f0543"
   },
   "outputs": [],
   "source": [
    "# number of classes\n",
    "num_classes = train_y.nunique()"
   ]
  },
  {
   "cell_type": "code",
   "execution_count": 13,
   "metadata": {
    "_uuid": "6b58c75713f4d1eb74495b894ae4bc2dc78fcc9d"
   },
   "outputs": [
    {
     "name": "stdout",
     "output_type": "stream",
     "text": [
      "train_y:  (112799, 47)\n",
      "test_y:  (18799, 47)\n"
     ]
    }
   ],
   "source": [
    "# One hot encoding\n",
    "train_y = np_utils.to_categorical(train_y, num_classes)\n",
    "test_y = np_utils.to_categorical(test_y, num_classes)\n",
    "print(\"train_y: \", train_y.shape)\n",
    "print(\"test_y: \", test_y.shape)"
   ]
  },
  {
   "cell_type": "code",
   "execution_count": 14,
   "metadata": {
    "_uuid": "0076e512ae2b51571856206c59a52375e189b451"
   },
   "outputs": [],
   "source": [
    "# Reshape image for CNN\n",
    "train_x = train_x.reshape(-1, HEIGHT, WIDTH, 1)\n",
    "test_x = test_x.reshape(-1, HEIGHT, WIDTH, 1)"
   ]
  },
  {
   "cell_type": "code",
   "execution_count": 15,
   "metadata": {
    "_uuid": "14ef5047de5bb2d88f0e2f99858d3ea27791e45e"
   },
   "outputs": [],
   "source": [
    "# partition to train and val\n",
    "train_x, val_x, train_y, val_y = train_test_split(train_x, train_y, test_size= 0.10, random_state=7)"
   ]
  },
  {
   "cell_type": "code",
   "execution_count": 16,
   "metadata": {
    "_uuid": "6ae9d2f48b1258ca44b83bf6c410e55b2b323a23"
   },
   "outputs": [
    {
     "name": "stdout",
     "output_type": "stream",
     "text": [
      "Model: \"sequential\"\n",
      "_________________________________________________________________\n",
      " Layer (type)                Output Shape              Param #   \n",
      "=================================================================\n",
      " conv2d (Conv2D)             (None, 28, 28, 128)       3328      \n",
      "                                                                 \n",
      " max_pooling2d (MaxPooling2D  (None, 14, 14, 128)      0         \n",
      " )                                                               \n",
      "                                                                 \n",
      " conv2d_1 (Conv2D)           (None, 14, 14, 64)        73792     \n",
      "                                                                 \n",
      " max_pooling2d_1 (MaxPooling  (None, 7, 7, 64)         0         \n",
      " 2D)                                                             \n",
      "                                                                 \n",
      " conv2d_2 (Conv2D)           (None, 7, 7, 64)          36928     \n",
      "                                                                 \n",
      " max_pooling2d_2 (MaxPooling  (None, 3, 3, 64)         0         \n",
      " 2D)                                                             \n",
      "                                                                 \n",
      " flatten (Flatten)           (None, 576)               0         \n",
      "                                                                 \n",
      " dense (Dense)               (None, 128)               73856     \n",
      "                                                                 \n",
      " dropout (Dropout)           (None, 128)               0         \n",
      "                                                                 \n",
      " dense_1 (Dense)             (None, 47)                6063      \n",
      "                                                                 \n",
      "=================================================================\n",
      "Total params: 193,967\n",
      "Trainable params: 193,967\n",
      "Non-trainable params: 0\n",
      "_________________________________________________________________\n"
     ]
    }
   ],
   "source": [
    "# Building model\n",
    "# ((Si - Fi + 2P)/S) + 1\n",
    "model = Sequential()\n",
    "\n",
    "model.add(Conv2D(filters=128, kernel_size=(5,5), padding = 'same', activation='relu',\\\n",
    "                 input_shape=(HEIGHT, WIDTH,1)))\n",
    "model.add(MaxPooling2D(pool_size=(2,2), strides=(2,2)))\n",
    "model.add(Conv2D(filters=64, kernel_size=(3,3) , padding = 'same', activation='relu'))\n",
    "model.add(MaxPooling2D(pool_size=(2,2)))\n",
    "model.add(Conv2D(filters=64, kernel_size=(3,3) , padding = 'same', activation='relu'))\n",
    "model.add(MaxPooling2D(pool_size=(2,2)))\n",
    "model.add(Flatten())\n",
    "model.add(Dense(units=128, activation='relu'))\n",
    "model.add(Dropout(.5))\n",
    "model.add(Dense(units=num_classes, activation='softmax'))\n",
    "\n",
    "model.summary()"
   ]
  },
  {
   "cell_type": "code",
   "execution_count": 17,
   "metadata": {
    "_uuid": "f9ff3ca9a74b8a08d21ab706a79e8e583735f009"
   },
   "outputs": [],
   "source": [
    "model.compile(loss='categorical_crossentropy', optimizer='adam', metrics=['accuracy'])"
   ]
  },
  {
   "cell_type": "code",
   "execution_count": 25,
   "metadata": {
    "_uuid": "adcaad4c00a7f0de08585394587699b62fa2b6e3"
   },
   "outputs": [
    {
     "name": "stdout",
     "output_type": "stream",
     "text": [
      "199/199 [==============================] - 203s 1s/step - loss: 0.1599 - accuracy: 0.9328 - val_loss: 0.4659 - val_accuracy: 0.8851\n"
     ]
    }
   ],
   "source": [
    "history = model.fit(train_x, train_y, epochs=1, batch_size=512, verbose=1, \\\n",
    "                    validation_data=(val_x, val_y))"
   ]
  },
  {
   "cell_type": "code",
   "execution_count": null,
   "metadata": {},
   "outputs": [],
   "source": [
    "model.save('model.h5')\n"
   ]
  },
  {
   "cell_type": "code",
   "execution_count": null,
   "metadata": {
    "_uuid": "a386da4ee6a425b653128bfcfd902b6c7cdb4fe9"
   },
   "outputs": [],
   "source": [
    "# plot accuracy and loss\n",
    "def plotgraph(epochs, acc, val_acc):\n",
    "    # Plot training & validation accuracy values\n",
    "    plt.plot(epochs, acc, 'b')\n",
    "    plt.plot(epochs, val_acc, 'r')\n",
    "    plt.title('Model accuracy')\n",
    "    plt.ylabel('Accuracy')\n",
    "    plt.xlabel('Epoch')\n",
    "    plt.legend(['Train', 'Val'], loc='upper left')\n",
    "    plt.show()"
   ]
  },
  {
   "cell_type": "code",
   "execution_count": null,
   "metadata": {
    "_uuid": "bca0d2ce529a7f78ed990e24120d40050428383f"
   },
   "outputs": [],
   "source": [
    "#%%\n",
    "acc = history.history['accuracy']\n",
    "val_acc = history.history['val_accuracy']\n",
    "loss = history.history['loss']\n",
    "val_loss = history.history['val_loss']\n",
    "epochs = range(1,len(acc)+1)"
   ]
  },
  {
   "cell_type": "code",
   "execution_count": null,
   "metadata": {
    "_uuid": "9d37b372916f3c8c38d181cb963bf6a973ef8af5"
   },
   "outputs": [
    {
     "data": {
      "image/png": "[encoded data removed]",
      "text/plain": [
       "<Figure size 432x288 with 1 Axes>"
      ]
     },
     "metadata": {
      "needs_background": "light"
     },
     "output_type": "display_data"
    }
   ],
   "source": [
    "# Accuracy curve\n",
    "plotgraph(epochs, acc, val_acc)"
   ]
  },
  {
   "cell_type": "code",
   "execution_count": null,
   "metadata": {
    "_uuid": "f06de482562dcc9fc84491575148d9a0e0e9a6e7"
   },
   "outputs": [
    {
     "data": {
      "image/png": "[encoded data removed]",
      "text/plain": [
       "<Figure size 432x288 with 1 Axes>"
      ]
     },
     "metadata": {
      "needs_background": "light"
     },
     "output_type": "display_data"
    }
   ],
   "source": [
    "# loss curve\n",
    "plotgraph(epochs, loss, val_loss)"
   ]
  },
  {
   "cell_type": "code",
   "execution_count": null,
   "metadata": {
    "_uuid": "97ed44997dc0ed725f7b7842b80e39d0290bc57f"
   },
   "outputs": [
    {
     "name": "stdout",
     "output_type": "stream",
     "text": [
      "Test loss: 0.49255862832069397\n",
      "Test accuracy: 0.8861109614372253\n"
     ]
    }
   ],
   "source": [
    "score = model.evaluate(test_x, test_y, verbose=0)\n",
    "print(\"Test loss:\", score[0])\n",
    "print(\"Test accuracy:\", score[1])"
   ]
  },
  {
   "cell_type": "code",
   "execution_count": 19,
   "metadata": {},
   "outputs": [],
   "source": [
    "from tensorflow import keras\n",
    "model = keras.models.load_model('model.h5')"
   ]
  },
  {
   "cell_type": "code",
   "execution_count": 20,
   "metadata": {
    "_uuid": "167dc3941d98f7f76fb22c003411208613198982"
   },
   "outputs": [
    {
     "name": "stdout",
     "output_type": "stream",
     "text": [
      "588/588 [==============================] - 9s 16ms/step\n"
     ]
    }
   ],
   "source": [
    "y_pred = model.predict(test_x)\n",
    "y_pred = (y_pred > 0.5)"
   ]
  },
  {
   "cell_type": "code",
   "execution_count": 21,
   "metadata": {},
   "outputs": [
    {
     "data": {
      "text/plain": [
       "array([39,  9, 26, ...,  1, 26, 33], dtype=int64)"
      ]
     },
     "execution_count": 21,
     "metadata": {},
     "output_type": "execute_result"
    }
   ],
   "source": [
    "test_y = np.array(test_y).argmax(axis=1)\n",
    "y_pred = np.array(y_pred).argmax(axis=1)\n",
    "test_y"
   ]
  },
  {
   "cell_type": "code",
   "execution_count": null,
   "metadata": {
    "_uuid": "8960270eaf925d75fbddc1cbd2fca4c355977dc5"
   },
   "outputs": [],
   "source": [
    "cm = metrics.confusion_matrix(test_y.argmax(axis=1), y_pred.argmax(axis=1))"
   ]
  },
  {
   "cell_type": "code",
   "execution_count": 22,
   "metadata": {
    "_uuid": "6f6781e58fad33c216bab66108e613078bfa603c"
   },
   "outputs": [],
   "source": [
    "from sklearn.metrics import confusion_matrix , ConfusionMatrixDisplay"
   ]
  },
  {
   "cell_type": "code",
   "execution_count": 24,
   "metadata": {},
   "outputs": [
    {
     "data": {
      "text/plain": [
       "Text(0.5, 0.98, 'Plot of confusion matrix')"
      ]
     },
     "execution_count": 24,
     "metadata": {},
     "output_type": "execute_result"
    },
    {
     "data": {
      "text/plain": [
       "<Figure size 720x360 with 0 Axes>"
      ]
     },
     "metadata": {},
     "output_type": "display_data"
    },
    {
     "data": {
      "image/png": "[encoded data removed]",
      "text/plain": [
       "<Figure size 1440x1080 with 2 Axes>"
      ]
     },
     "metadata": {
      "needs_background": "light"
     },
     "output_type": "display_data"
    }
   ],
   "source": [
    "plt.figure(figsize=(10, 5))\n",
    "disp = ConfusionMatrixDisplay.from_predictions(\n",
    "                                              test_y, \n",
    "                                              y_pred, \n",
    "                                              cmap=plt.cm.Blues\n",
    "                                              ) \n",
    "fig = disp.figure_\n",
    "fig.set_figwidth(20)\n",
    "fig.set_figheight(15) \n",
    "fig.suptitle('Plot of confusion matrix')"
   ]
  }
 ],
 "metadata": {
  "kernelspec": {
   "display_name": "Python 3",
   "language": "python",
   "name": "python3"
  },
  "language_info": {
   "codemirror_mode": {
    "name": "ipython",
    "version": 3
   },
   "file_extension": ".py",
   "mimetype": "text/x-python",
   "name": "python",
   "nbconvert_exporter": "python",
   "pygments_lexer": "ipython3",
   "version": "3.9.6 (tags/v3.9.6:db3ff76, Jun 28 2021, 15:26:21) [MSC v.1929 64 bit (AMD64)]"
  },
  "vscode": {
   "interpreter": {
    "hash": "f50e99431b504f6cbe769329a6ae53e672fcf00c977cfdb7499663b47d6cfd61"
   }
  }
 },
 "nbformat": 4,
 "nbformat_minor": 1
}
